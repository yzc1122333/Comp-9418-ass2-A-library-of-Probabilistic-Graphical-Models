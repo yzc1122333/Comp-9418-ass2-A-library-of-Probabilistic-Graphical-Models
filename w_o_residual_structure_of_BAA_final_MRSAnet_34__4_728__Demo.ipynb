{
  "nbformat": 4,
  "nbformat_minor": 0,
  "metadata": {
    "colab": {
      "name": "w_o_residual_structure_of_BAA_final_MRSAnet_34__4.728__Demo.ipynb",
      "provenance": [],
      "collapsed_sections": [],
      "toc_visible": true,
      "machine_shape": "hm",
      "include_colab_link": true
    },
    "kernelspec": {
      "name": "python3",
      "display_name": "Python 3"
    },
    "accelerator": "TPU",
    "widgets": {
      "application/vnd.jupyter.widget-state+json": {
        "509b3f981dc64e1b823220f3e086468d": {
          "model_module": "@jupyter-widgets/controls",
          "model_name": "HBoxModel",
          "state": {
            "_view_name": "HBoxView",
            "_dom_classes": [],
            "_model_name": "HBoxModel",
            "_view_module": "@jupyter-widgets/controls",
            "_model_module_version": "1.5.0",
            "_view_count": null,
            "_view_module_version": "1.5.0",
            "box_style": "",
            "layout": "IPY_MODEL_d658b2a132974dbc96808654265c539b",
            "_model_module": "@jupyter-widgets/controls",
            "children": [
              "IPY_MODEL_d1d38755703a4db4b2ced4f99fe5e5ed",
              "IPY_MODEL_d188296bbc65413dbeab6a3d14a57614"
            ]
          }
        },
        "d658b2a132974dbc96808654265c539b": {
          "model_module": "@jupyter-widgets/base",
          "model_name": "LayoutModel",
          "state": {
            "_view_name": "LayoutView",
            "grid_template_rows": null,
            "right": null,
            "justify_content": null,
            "_view_module": "@jupyter-widgets/base",
            "overflow": null,
            "_model_module_version": "1.2.0",
            "_view_count": null,
            "flex_flow": null,
            "width": null,
            "min_width": null,
            "border": null,
            "align_items": null,
            "bottom": null,
            "_model_module": "@jupyter-widgets/base",
            "top": null,
            "grid_column": null,
            "overflow_y": null,
            "overflow_x": null,
            "grid_auto_flow": null,
            "grid_area": null,
            "grid_template_columns": null,
            "flex": null,
            "_model_name": "LayoutModel",
            "justify_items": null,
            "grid_row": null,
            "max_height": null,
            "align_content": null,
            "visibility": null,
            "align_self": null,
            "height": null,
            "min_height": null,
            "padding": null,
            "grid_auto_rows": null,
            "grid_gap": null,
            "max_width": null,
            "order": null,
            "_view_module_version": "1.2.0",
            "grid_template_areas": null,
            "object_position": null,
            "object_fit": null,
            "grid_auto_columns": null,
            "margin": null,
            "display": null,
            "left": null
          }
        },
        "d1d38755703a4db4b2ced4f99fe5e5ed": {
          "model_module": "@jupyter-widgets/controls",
          "model_name": "FloatProgressModel",
          "state": {
            "_view_name": "ProgressView",
            "style": "IPY_MODEL_6c272e4d269f4af7b2db4af48ac3585f",
            "_dom_classes": [],
            "description": "100%",
            "_model_name": "FloatProgressModel",
            "bar_style": "success",
            "max": 87306240,
            "_view_module": "@jupyter-widgets/controls",
            "_model_module_version": "1.5.0",
            "value": 87306240,
            "_view_count": null,
            "_view_module_version": "1.5.0",
            "orientation": "horizontal",
            "min": 0,
            "description_tooltip": null,
            "_model_module": "@jupyter-widgets/controls",
            "layout": "IPY_MODEL_22e8ed338038412fba8f81f46ee21d22"
          }
        },
        "d188296bbc65413dbeab6a3d14a57614": {
          "model_module": "@jupyter-widgets/controls",
          "model_name": "HTMLModel",
          "state": {
            "_view_name": "HTMLView",
            "style": "IPY_MODEL_c2cb45bd8446493aa856387b0b04cae6",
            "_dom_classes": [],
            "description": "",
            "_model_name": "HTMLModel",
            "placeholder": "​",
            "_view_module": "@jupyter-widgets/controls",
            "_model_module_version": "1.5.0",
            "value": " 83.3M/83.3M [00:04&lt;00:00, 18.4MB/s]",
            "_view_count": null,
            "_view_module_version": "1.5.0",
            "description_tooltip": null,
            "_model_module": "@jupyter-widgets/controls",
            "layout": "IPY_MODEL_1cb7b94a87f7451196bd97083d68edc0"
          }
        },
        "6c272e4d269f4af7b2db4af48ac3585f": {
          "model_module": "@jupyter-widgets/controls",
          "model_name": "ProgressStyleModel",
          "state": {
            "_view_name": "StyleView",
            "_model_name": "ProgressStyleModel",
            "description_width": "initial",
            "_view_module": "@jupyter-widgets/base",
            "_model_module_version": "1.5.0",
            "_view_count": null,
            "_view_module_version": "1.2.0",
            "bar_color": null,
            "_model_module": "@jupyter-widgets/controls"
          }
        },
        "22e8ed338038412fba8f81f46ee21d22": {
          "model_module": "@jupyter-widgets/base",
          "model_name": "LayoutModel",
          "state": {
            "_view_name": "LayoutView",
            "grid_template_rows": null,
            "right": null,
            "justify_content": null,
            "_view_module": "@jupyter-widgets/base",
            "overflow": null,
            "_model_module_version": "1.2.0",
            "_view_count": null,
            "flex_flow": null,
            "width": null,
            "min_width": null,
            "border": null,
            "align_items": null,
            "bottom": null,
            "_model_module": "@jupyter-widgets/base",
            "top": null,
            "grid_column": null,
            "overflow_y": null,
            "overflow_x": null,
            "grid_auto_flow": null,
            "grid_area": null,
            "grid_template_columns": null,
            "flex": null,
            "_model_name": "LayoutModel",
            "justify_items": null,
            "grid_row": null,
            "max_height": null,
            "align_content": null,
            "visibility": null,
            "align_self": null,
            "height": null,
            "min_height": null,
            "padding": null,
            "grid_auto_rows": null,
            "grid_gap": null,
            "max_width": null,
            "order": null,
            "_view_module_version": "1.2.0",
            "grid_template_areas": null,
            "object_position": null,
            "object_fit": null,
            "grid_auto_columns": null,
            "margin": null,
            "display": null,
            "left": null
          }
        },
        "c2cb45bd8446493aa856387b0b04cae6": {
          "model_module": "@jupyter-widgets/controls",
          "model_name": "DescriptionStyleModel",
          "state": {
            "_view_name": "StyleView",
            "_model_name": "DescriptionStyleModel",
            "description_width": "",
            "_view_module": "@jupyter-widgets/base",
            "_model_module_version": "1.5.0",
            "_view_count": null,
            "_view_module_version": "1.2.0",
            "_model_module": "@jupyter-widgets/controls"
          }
        },
        "1cb7b94a87f7451196bd97083d68edc0": {
          "model_module": "@jupyter-widgets/base",
          "model_name": "LayoutModel",
          "state": {
            "_view_name": "LayoutView",
            "grid_template_rows": null,
            "right": null,
            "justify_content": null,
            "_view_module": "@jupyter-widgets/base",
            "overflow": null,
            "_model_module_version": "1.2.0",
            "_view_count": null,
            "flex_flow": null,
            "width": null,
            "min_width": null,
            "border": null,
            "align_items": null,
            "bottom": null,
            "_model_module": "@jupyter-widgets/base",
            "top": null,
            "grid_column": null,
            "overflow_y": null,
            "overflow_x": null,
            "grid_auto_flow": null,
            "grid_area": null,
            "grid_template_columns": null,
            "flex": null,
            "_model_name": "LayoutModel",
            "justify_items": null,
            "grid_row": null,
            "max_height": null,
            "align_content": null,
            "visibility": null,
            "align_self": null,
            "height": null,
            "min_height": null,
            "padding": null,
            "grid_auto_rows": null,
            "grid_gap": null,
            "max_width": null,
            "order": null,
            "_view_module_version": "1.2.0",
            "grid_template_areas": null,
            "object_position": null,
            "object_fit": null,
            "grid_auto_columns": null,
            "margin": null,
            "display": null,
            "left": null
          }
        }
      }
    }
  },
  "cells": [
    {
      "cell_type": "markdown",
      "metadata": {
        "id": "view-in-github",
        "colab_type": "text"
      },
      "source": [
        "<a href=\"https://colab.research.google.com/github/yzc1122333/Comp-9418-ass2-A-library-of-Probabilistic-Graphical-Models/blob/master/w_o_residual_structure_of_BAA_final_MRSAnet_34__4_728__Demo.ipynb\" target=\"_parent\"><img src=\"https://colab.research.google.com/assets/colab-badge.svg\" alt=\"Open In Colab\"/></a>"
      ]
    },
    {
      "cell_type": "code",
      "metadata": {
        "id": "Vg2N16KFlrHZ",
        "outputId": "f1f41710-1778-4930-ded7-dcca54d8c74d",
        "colab": {
          "base_uri": "https://localhost:8080/"
        }
      },
      "source": [
        "from google.colab import drive\n",
        "drive.mount('/content/drive')"
      ],
      "execution_count": 1,
      "outputs": [
        {
          "output_type": "stream",
          "text": [
            "Mounted at /content/drive\n"
          ],
          "name": "stdout"
        }
      ]
    },
    {
      "cell_type": "code",
      "metadata": {
        "id": "N_8OjcJMY61e",
        "outputId": "efb14990-c13d-4ba7-e3c7-f75dca01ebaa",
        "colab": {
          "base_uri": "https://localhost:8080/"
        }
      },
      "source": [
        "!curl https://raw.githubusercontent.com/pytorch/xla/master/contrib/scripts/env-setup.py -o pytorch-xla-env-setup.py\n",
        "!python pytorch-xla-env-setup.py --version 20201010 --apt-packages libomp5 libopenblas-dev"
      ],
      "execution_count": 2,
      "outputs": [
        {
          "output_type": "stream",
          "text": [
            "  % Total    % Received % Xferd  Average Speed   Time    Time     Time  Current\n",
            "                                 Dload  Upload   Total   Spent    Left  Speed\n",
            "\r  0     0    0     0    0     0      0      0 --:--:-- --:--:-- --:--:--     0\r100  5116  100  5116    0     0  29744      0 --:--:-- --:--:-- --:--:-- 29744\n",
            "Updating... This may take around 2 minutes.\n",
            "Updating TPU runtime to pytorch-dev20201010 ...\n",
            "Collecting cloud-tpu-client\n",
            "  Downloading https://files.pythonhosted.org/packages/56/9f/7b1958c2886db06feb5de5b2c191096f9e619914b6c31fdf93999fdbbd8b/cloud_tpu_client-0.10-py3-none-any.whl\n",
            "Collecting google-api-python-client==1.8.0\n",
            "\u001b[?25l  Downloading https://files.pythonhosted.org/packages/9a/b4/a955f393b838bc47cbb6ae4643b9d0f90333d3b4db4dc1e819f36aad18cc/google_api_python_client-1.8.0-py3-none-any.whl (57kB)\n",
            "\u001b[K     |████████████████████████████████| 61kB 2.2MB/s \n",
            "\u001b[?25hRequirement already satisfied: oauth2client in /usr/local/lib/python3.6/dist-packages (from cloud-tpu-client) (4.1.3)\n",
            "Requirement already satisfied: httplib2<1dev,>=0.9.2 in /usr/local/lib/python3.6/dist-packages (from google-api-python-client==1.8.0->cloud-tpu-client) (0.17.4)\n",
            "Requirement already satisfied: six<2dev,>=1.6.1 in /usr/local/lib/python3.6/dist-packages (from google-api-python-client==1.8.0->cloud-tpu-client) (1.15.0)\n",
            "Requirement already satisfied: uritemplate<4dev,>=3.0.0 in /usr/local/lib/python3.6/dist-packages (from google-api-python-client==1.8.0->cloud-tpu-client) (3.0.1)\n",
            "Requirement already satisfied: google-api-core<2dev,>=1.13.0 in /usr/local/lib/python3.6/dist-packages (from google-api-python-client==1.8.0->cloud-tpu-client) (1.16.0)\n",
            "Requirement already satisfied: google-auth-httplib2>=0.0.3 in /usr/local/lib/python3.6/dist-packages (from google-api-python-client==1.8.0->cloud-tpu-client) (0.0.4)\n",
            "Requirement already satisfied: google-auth>=1.4.1 in /usr/local/lib/python3.6/dist-packages (from google-api-python-client==1.8.0->cloud-tpu-client) (1.17.2)\n",
            "Requirement already satisfied: pyasn1-modules>=0.0.5 in /usr/local/lib/python3.6/dist-packages (from oauth2client->cloud-tpu-client) (0.2.8)\n",
            "Requirement already satisfied: rsa>=3.1.4 in /usr/local/lib/python3.6/dist-packages (from oauth2client->cloud-tpu-client) (4.6)\n",
            "Requirement already satisfied: pyasn1>=0.1.7 in /usr/local/lib/python3.6/dist-packages (from oauth2client->cloud-tpu-client) (0.4.8)\n",
            "Requirement already satisfied: pytz in /usr/local/lib/python3.6/dist-packages (from google-api-core<2dev,>=1.13.0->google-api-python-client==1.8.0->cloud-tpu-client) (2018.9)\n",
            "Requirement already satisfied: protobuf>=3.4.0 in /usr/local/lib/python3.6/dist-packages (from google-api-core<2dev,>=1.13.0->google-api-python-client==1.8.0->cloud-tpu-client) (3.12.4)\n",
            "Requirement already satisfied: googleapis-common-protos<2.0dev,>=1.6.0 in /usr/local/lib/python3.6/dist-packages (from google-api-core<2dev,>=1.13.0->google-api-python-client==1.8.0->cloud-tpu-client) (1.52.0)\n",
            "Requirement already satisfied: setuptools>=34.0.0 in /usr/local/lib/python3.6/dist-packages (from google-api-core<2dev,>=1.13.0->google-api-python-client==1.8.0->cloud-tpu-client) (50.3.2)\n",
            "Requirement already satisfied: requests<3.0.0dev,>=2.18.0 in /usr/local/lib/python3.6/dist-packages (from google-api-core<2dev,>=1.13.0->google-api-python-client==1.8.0->cloud-tpu-client) (2.23.0)\n",
            "Requirement already satisfied: cachetools<5.0,>=2.0.0 in /usr/local/lib/python3.6/dist-packages (from google-auth>=1.4.1->google-api-python-client==1.8.0->cloud-tpu-client) (4.1.1)\n",
            "Requirement already satisfied: certifi>=2017.4.17 in /usr/local/lib/python3.6/dist-packages (from requests<3.0.0dev,>=2.18.0->google-api-core<2dev,>=1.13.0->google-api-python-client==1.8.0->cloud-tpu-client) (2020.6.20)\n",
            "Uninstalling torch-1.7.0+cu101:\n",
            "Requirement already satisfied: idna<3,>=2.5 in /usr/local/lib/python3.6/dist-packages (from requests<3.0.0dev,>=2.18.0->google-api-core<2dev,>=1.13.0->google-api-python-client==1.8.0->cloud-tpu-client) (2.10)\n",
            "Requirement already satisfied: chardet<4,>=3.0.2 in /usr/local/lib/python3.6/dist-packages (from requests<3.0.0dev,>=2.18.0->google-api-core<2dev,>=1.13.0->google-api-python-client==1.8.0->cloud-tpu-client) (3.0.4)\n",
            "Requirement already satisfied: urllib3!=1.25.0,!=1.25.1,<1.26,>=1.21.1 in /usr/local/lib/python3.6/dist-packages (from requests<3.0.0dev,>=2.18.0->google-api-core<2dev,>=1.13.0->google-api-python-client==1.8.0->cloud-tpu-client) (1.24.3)\n",
            "Installing collected packages: google-api-python-client, cloud-tpu-client\n",
            "  Found existing installation: google-api-python-client 1.7.12\n",
            "    Uninstalling google-api-python-client-1.7.12:\n",
            "      Successfully uninstalled google-api-python-client-1.7.12\n",
            "Successfully installed cloud-tpu-client-0.10 google-api-python-client-1.8.0\n",
            "Done updating TPU runtime\n",
            "  Successfully uninstalled torch-1.7.0+cu101\n",
            "Uninstalling torchvision-0.8.1+cu101:\n",
            "  Successfully uninstalled torchvision-0.8.1+cu101\n",
            "Copying gs://tpu-pytorch/wheels/torch-nightly+20201010-cp36-cp36m-linux_x86_64.whl...\n",
            "- [1 files][114.8 MiB/114.8 MiB]                                                \n",
            "Operation completed over 1 objects/114.8 MiB.                                    \n",
            "Copying gs://tpu-pytorch/wheels/torch_xla-nightly+20201010-cp36-cp36m-linux_x86_64.whl...\n",
            "- [1 files][127.5 MiB/127.5 MiB]                                                \n",
            "Operation completed over 1 objects/127.5 MiB.                                    \n",
            "Copying gs://tpu-pytorch/wheels/torchvision-nightly+20201010-cp36-cp36m-linux_x86_64.whl...\n",
            "/ [1 files][  3.0 MiB/  3.0 MiB]                                                \n",
            "Operation completed over 1 objects/3.0 MiB.                                      \n",
            "Processing ./torch-nightly+20201010-cp36-cp36m-linux_x86_64.whl\n",
            "Requirement already satisfied: future in /usr/local/lib/python3.6/dist-packages (from torch==nightly+20201010) (0.16.0)\n",
            "Requirement already satisfied: numpy in /usr/local/lib/python3.6/dist-packages (from torch==nightly+20201010) (1.18.5)\n",
            "Requirement already satisfied: dataclasses; python_version < \"3.7\" in /usr/local/lib/python3.6/dist-packages (from torch==nightly+20201010) (0.7)\n",
            "Requirement already satisfied: typing-extensions in /usr/local/lib/python3.6/dist-packages (from torch==nightly+20201010) (3.7.4.3)\n",
            "\u001b[31mERROR: fastai 1.0.61 requires torchvision, which is not installed.\u001b[0m\n",
            "Installing collected packages: torch\n",
            "Successfully installed torch-1.8.0a0\n",
            "Processing ./torch_xla-nightly+20201010-cp36-cp36m-linux_x86_64.whl\n",
            "Installing collected packages: torch-xla\n",
            "Successfully installed torch-xla-1.6+f631495\n",
            "Processing ./torchvision-nightly+20201010-cp36-cp36m-linux_x86_64.whl\n",
            "Requirement already satisfied: numpy in /usr/local/lib/python3.6/dist-packages (from torchvision==nightly+20201010) (1.18.5)\n",
            "Requirement already satisfied: torch in /usr/local/lib/python3.6/dist-packages (from torchvision==nightly+20201010) (1.8.0a0)\n",
            "Requirement already satisfied: pillow>=4.1.1 in /usr/local/lib/python3.6/dist-packages (from torchvision==nightly+20201010) (7.0.0)\n",
            "Requirement already satisfied: typing-extensions in /usr/local/lib/python3.6/dist-packages (from torch->torchvision==nightly+20201010) (3.7.4.3)\n",
            "Requirement already satisfied: future in /usr/local/lib/python3.6/dist-packages (from torch->torchvision==nightly+20201010) (0.16.0)\n",
            "Requirement already satisfied: dataclasses; python_version < \"3.7\" in /usr/local/lib/python3.6/dist-packages (from torch->torchvision==nightly+20201010) (0.7)\n",
            "Installing collected packages: torchvision\n",
            "Successfully installed torchvision-0.8.0a0+d537965\n",
            "Reading package lists... Done\n",
            "Building dependency tree       \n",
            "Reading state information... Done\n",
            "libopenblas-dev is already the newest version (0.2.20+ds-4).\n",
            "The following NEW packages will be installed:\n",
            "  libomp5\n",
            "0 upgraded, 1 newly installed, 0 to remove and 11 not upgraded.\n",
            "Need to get 234 kB of archives.\n",
            "After this operation, 774 kB of additional disk space will be used.\n",
            "Get:1 http://archive.ubuntu.com/ubuntu bionic/universe amd64 libomp5 amd64 5.0.1-1 [234 kB]\n",
            "Fetched 234 kB in 1s (333 kB/s)\n",
            "Selecting previously unselected package libomp5:amd64.\n",
            "(Reading database ... 144628 files and directories currently installed.)\n",
            "Preparing to unpack .../libomp5_5.0.1-1_amd64.deb ...\n",
            "Unpacking libomp5:amd64 (5.0.1-1) ...\n",
            "Setting up libomp5:amd64 (5.0.1-1) ...\n",
            "Processing triggers for libc-bin (2.27-3ubuntu1.2) ...\n",
            "/sbin/ldconfig.real: /usr/local/lib/python3.6/dist-packages/ideep4py/lib/libmkldnn.so.0 is not a symbolic link\n",
            "\n"
          ],
          "name": "stdout"
        }
      ]
    },
    {
      "cell_type": "code",
      "metadata": {
        "id": "qJATr3IgUqWY",
        "outputId": "105e2ebe-d85b-4172-8b74-60618d31b31b",
        "colab": {
          "base_uri": "https://localhost:8080/"
        }
      },
      "source": [
        "!pip install pretrainedmodels"
      ],
      "execution_count": 3,
      "outputs": [
        {
          "output_type": "stream",
          "text": [
            "Collecting pretrainedmodels\n",
            "\u001b[?25l  Downloading https://files.pythonhosted.org/packages/84/0e/be6a0e58447ac16c938799d49bfb5fb7a80ac35e137547fc6cee2c08c4cf/pretrainedmodels-0.7.4.tar.gz (58kB)\n",
            "\r\u001b[K     |█████▋                          | 10kB 13.5MB/s eta 0:00:01\r\u001b[K     |███████████▏                    | 20kB 2.1MB/s eta 0:00:01\r\u001b[K     |████████████████▊               | 30kB 2.8MB/s eta 0:00:01\r\u001b[K     |██████████████████████▎         | 40kB 3.0MB/s eta 0:00:01\r\u001b[K     |███████████████████████████▉    | 51kB 2.5MB/s eta 0:00:01\r\u001b[K     |████████████████████████████████| 61kB 2.2MB/s \n",
            "\u001b[?25hRequirement already satisfied: torch in /usr/local/lib/python3.6/dist-packages (from pretrainedmodels) (1.8.0a0)\n",
            "Requirement already satisfied: torchvision in /usr/local/lib/python3.6/dist-packages (from pretrainedmodels) (0.8.0a0+d537965)\n",
            "Collecting munch\n",
            "  Downloading https://files.pythonhosted.org/packages/cc/ab/85d8da5c9a45e072301beb37ad7f833cd344e04c817d97e0cc75681d248f/munch-2.5.0-py2.py3-none-any.whl\n",
            "Requirement already satisfied: tqdm in /usr/local/lib/python3.6/dist-packages (from pretrainedmodels) (4.41.1)\n",
            "Requirement already satisfied: typing-extensions in /usr/local/lib/python3.6/dist-packages (from torch->pretrainedmodels) (3.7.4.3)\n",
            "Requirement already satisfied: future in /usr/local/lib/python3.6/dist-packages (from torch->pretrainedmodels) (0.16.0)\n",
            "Requirement already satisfied: numpy in /usr/local/lib/python3.6/dist-packages (from torch->pretrainedmodels) (1.18.5)\n",
            "Requirement already satisfied: dataclasses; python_version < \"3.7\" in /usr/local/lib/python3.6/dist-packages (from torch->pretrainedmodels) (0.7)\n",
            "Requirement already satisfied: pillow>=4.1.1 in /usr/local/lib/python3.6/dist-packages (from torchvision->pretrainedmodels) (7.0.0)\n",
            "Requirement already satisfied: six in /usr/local/lib/python3.6/dist-packages (from munch->pretrainedmodels) (1.15.0)\n",
            "Building wheels for collected packages: pretrainedmodels\n",
            "  Building wheel for pretrainedmodels (setup.py) ... \u001b[?25l\u001b[?25hdone\n",
            "  Created wheel for pretrainedmodels: filename=pretrainedmodels-0.7.4-cp36-none-any.whl size=60964 sha256=e64f1efb957b31a188e84f7481a9f8c0bd06f3a01c1de7b83abe8a24759f7782\n",
            "  Stored in directory: /root/.cache/pip/wheels/69/df/63/62583c096289713f22db605aa2334de5b591d59861a02c2ecd\n",
            "Successfully built pretrainedmodels\n",
            "Installing collected packages: munch, pretrainedmodels\n",
            "Successfully installed munch-2.5.0 pretrainedmodels-0.7.4\n"
          ],
          "name": "stdout"
        }
      ]
    },
    {
      "cell_type": "code",
      "metadata": {
        "id": "YkxZXP1bvFKV",
        "outputId": "ed13ff9d-c48c-4bac-c574-fa48a68a3312",
        "colab": {
          "base_uri": "https://localhost:8080/"
        }
      },
      "source": [
        "!pip install albumentations==0.4.5"
      ],
      "execution_count": 4,
      "outputs": [
        {
          "output_type": "stream",
          "text": [
            "Collecting albumentations==0.4.5\n",
            "\u001b[?25l  Downloading https://files.pythonhosted.org/packages/8d/40/a343ecacc7e22fe52ab9a16b84dc6165ba05ee17e3729adeb3e2ffa2b37b/albumentations-0.4.5.tar.gz (116kB)\n",
            "\u001b[K     |████████████████████████████████| 122kB 3.4MB/s \n",
            "\u001b[?25hRequirement already satisfied: numpy>=1.11.1 in /usr/local/lib/python3.6/dist-packages (from albumentations==0.4.5) (1.18.5)\n",
            "Requirement already satisfied: scipy in /usr/local/lib/python3.6/dist-packages (from albumentations==0.4.5) (1.4.1)\n",
            "Collecting imgaug<0.2.7,>=0.2.5\n",
            "\u001b[?25l  Downloading https://files.pythonhosted.org/packages/ad/2e/748dbb7bb52ec8667098bae9b585f448569ae520031932687761165419a2/imgaug-0.2.6.tar.gz (631kB)\n",
            "\u001b[K     |████████████████████████████████| 634kB 8.4MB/s \n",
            "\u001b[?25hRequirement already satisfied: PyYAML in /usr/local/lib/python3.6/dist-packages (from albumentations==0.4.5) (3.13)\n",
            "Requirement already satisfied: opencv-python>=4.1.1 in /usr/local/lib/python3.6/dist-packages (from albumentations==0.4.5) (4.1.2.30)\n",
            "Requirement already satisfied: scikit-image>=0.11.0 in /usr/local/lib/python3.6/dist-packages (from imgaug<0.2.7,>=0.2.5->albumentations==0.4.5) (0.16.2)\n",
            "Requirement already satisfied: six in /usr/local/lib/python3.6/dist-packages (from imgaug<0.2.7,>=0.2.5->albumentations==0.4.5) (1.15.0)\n",
            "Requirement already satisfied: matplotlib!=3.0.0,>=2.0.0 in /usr/local/lib/python3.6/dist-packages (from scikit-image>=0.11.0->imgaug<0.2.7,>=0.2.5->albumentations==0.4.5) (3.2.2)\n",
            "Requirement already satisfied: imageio>=2.3.0 in /usr/local/lib/python3.6/dist-packages (from scikit-image>=0.11.0->imgaug<0.2.7,>=0.2.5->albumentations==0.4.5) (2.4.1)\n",
            "Requirement already satisfied: networkx>=2.0 in /usr/local/lib/python3.6/dist-packages (from scikit-image>=0.11.0->imgaug<0.2.7,>=0.2.5->albumentations==0.4.5) (2.5)\n",
            "Requirement already satisfied: PyWavelets>=0.4.0 in /usr/local/lib/python3.6/dist-packages (from scikit-image>=0.11.0->imgaug<0.2.7,>=0.2.5->albumentations==0.4.5) (1.1.1)\n",
            "Requirement already satisfied: pillow>=4.3.0 in /usr/local/lib/python3.6/dist-packages (from scikit-image>=0.11.0->imgaug<0.2.7,>=0.2.5->albumentations==0.4.5) (7.0.0)\n",
            "Requirement already satisfied: pyparsing!=2.0.4,!=2.1.2,!=2.1.6,>=2.0.1 in /usr/local/lib/python3.6/dist-packages (from matplotlib!=3.0.0,>=2.0.0->scikit-image>=0.11.0->imgaug<0.2.7,>=0.2.5->albumentations==0.4.5) (2.4.7)\n",
            "Requirement already satisfied: kiwisolver>=1.0.1 in /usr/local/lib/python3.6/dist-packages (from matplotlib!=3.0.0,>=2.0.0->scikit-image>=0.11.0->imgaug<0.2.7,>=0.2.5->albumentations==0.4.5) (1.3.1)\n",
            "Requirement already satisfied: cycler>=0.10 in /usr/local/lib/python3.6/dist-packages (from matplotlib!=3.0.0,>=2.0.0->scikit-image>=0.11.0->imgaug<0.2.7,>=0.2.5->albumentations==0.4.5) (0.10.0)\n",
            "Requirement already satisfied: python-dateutil>=2.1 in /usr/local/lib/python3.6/dist-packages (from matplotlib!=3.0.0,>=2.0.0->scikit-image>=0.11.0->imgaug<0.2.7,>=0.2.5->albumentations==0.4.5) (2.8.1)\n",
            "Requirement already satisfied: decorator>=4.3.0 in /usr/local/lib/python3.6/dist-packages (from networkx>=2.0->scikit-image>=0.11.0->imgaug<0.2.7,>=0.2.5->albumentations==0.4.5) (4.4.2)\n",
            "Building wheels for collected packages: albumentations, imgaug\n",
            "  Building wheel for albumentations (setup.py) ... \u001b[?25l\u001b[?25hdone\n",
            "  Created wheel for albumentations: filename=albumentations-0.4.5-cp36-none-any.whl size=64378 sha256=8c8e8f40897bd88cbb07e871d650978cf57af050784f84990690d468371c802e\n",
            "  Stored in directory: /root/.cache/pip/wheels/f0/a0/61/e50f93165a5ec7e7f5d65064e513239505bc4c06d2289557d3\n",
            "  Building wheel for imgaug (setup.py) ... \u001b[?25l\u001b[?25hdone\n",
            "  Created wheel for imgaug: filename=imgaug-0.2.6-cp36-none-any.whl size=654021 sha256=80da34c441deec4d57ccc72f372d4e3b10093bcddf836ac8b326aca411be1c12\n",
            "  Stored in directory: /root/.cache/pip/wheels/97/ec/48/0d25896c417b715af6236dbcef8f0bed136a1a5e52972fc6d0\n",
            "Successfully built albumentations imgaug\n",
            "Installing collected packages: imgaug, albumentations\n",
            "  Found existing installation: imgaug 0.2.9\n",
            "    Uninstalling imgaug-0.2.9:\n",
            "      Successfully uninstalled imgaug-0.2.9\n",
            "  Found existing installation: albumentations 0.1.12\n",
            "    Uninstalling albumentations-0.1.12:\n",
            "      Successfully uninstalled albumentations-0.1.12\n",
            "Successfully installed albumentations-0.4.5 imgaug-0.2.6\n"
          ],
          "name": "stdout"
        }
      ]
    },
    {
      "cell_type": "code",
      "metadata": {
        "id": "CUJp0NcCW6sU",
        "outputId": "644682c8-806e-49a9-db1a-39b8bf0f321b",
        "colab": {
          "base_uri": "https://localhost:8080/"
        }
      },
      "source": [
        "!cat /proc/cpuinfo | grep 'physical id' | sort | uniq | wc -l\n",
        "!cat /proc/cpuinfo |grep \"cores\"|uniq|awk '{print $4}'\n",
        "!grep 'processor' /proc/cpuinfo | sort -u | wc -l"
      ],
      "execution_count": 5,
      "outputs": [
        {
          "output_type": "stream",
          "text": [
            "1\n",
            "20\n",
            "40\n"
          ],
          "name": "stdout"
        }
      ]
    },
    {
      "cell_type": "code",
      "metadata": {
        "id": "HRp7NhT6jVnG"
      },
      "source": [
        "import numpy as np \n",
        "import pandas as pd \n",
        "import os, sys, random\n",
        "import numpy as np\n",
        "import pandas as pd\n",
        "import cv2\n",
        "import shutil\n",
        "\n",
        "import torch\n",
        "import torch.nn as nn\n",
        "import torch.nn.functional as F\n",
        "from torchvision import transforms\n",
        "from torch import Tensor\n",
        "\n",
        "from torch.utils.data import Dataset, DataLoader\n",
        "from torch.utils.data.dataloader import _utils\n",
        "\n",
        "from random import choice\n",
        "\n",
        "from skimage import io\n",
        "from PIL import Image, ImageOps\n",
        "\n",
        "import glob\n",
        "\n",
        "#from torchsummary import summary\n",
        "import logging\n",
        "\n",
        "import matplotlib.pyplot as plt\n",
        "\n",
        "import torch.nn.functional as F\n",
        "from torch.utils.data import Dataset\n",
        "from torch.utils.data import DataLoader\n",
        "import torchvision.models as models\n",
        "# from tqdm.notebook import tqdm\n",
        "from tqdm import tqdm\n",
        "from sklearn.utils import shuffle\n",
        "# from apex import amp\n",
        "\n",
        "import random\n",
        "\n",
        "import time\n",
        "\n",
        "from torch.optim.lr_scheduler import StepLR\n",
        "from torch.nn.parameter import Parameter\n",
        "\n",
        "from albumentations.augmentations.transforms import Lambda, ShiftScaleRotate, HorizontalFlip, Normalize, RandomBrightnessContrast, RandomResizedCrop\n",
        "from albumentations.pytorch import ToTensor\n",
        "from albumentations import Compose, OneOrOther"
      ],
      "execution_count": 6,
      "outputs": []
    },
    {
      "cell_type": "code",
      "metadata": {
        "id": "IhYIc93CvtbM",
        "outputId": "7a73c5dd-b601-44c5-af3b-d0fff36ffd34",
        "colab": {
          "base_uri": "https://localhost:8080/",
          "height": 36
        }
      },
      "source": [
        "import albumentations\n",
        "albumentations.__version__"
      ],
      "execution_count": 7,
      "outputs": [
        {
          "output_type": "execute_result",
          "data": {
            "application/vnd.google.colaboratory.intrinsic+json": {
              "type": "string"
            },
            "text/plain": [
              "'0.4.5'"
            ]
          },
          "metadata": {
            "tags": []
          },
          "execution_count": 7
        }
      ]
    },
    {
      "cell_type": "code",
      "metadata": {
        "id": "AfzNYK4-ZKNL"
      },
      "source": [
        "import warnings\n",
        "import torch_xla\n",
        "import torch_xla.debug.metrics as met\n",
        "import torch_xla.distributed.data_parallel as dp\n",
        "import torch_xla.distributed.parallel_loader as pl\n",
        "import torch_xla.utils.utils as xu\n",
        "import torch_xla.core.xla_model as xm\n",
        "import torch_xla.distributed.xla_multiprocessing as xmp\n",
        "import torch_xla.test.test_utils as test_utils\n",
        "import warnings\n",
        "\n",
        "warnings.filterwarnings(\"ignore\")"
      ],
      "execution_count": 8,
      "outputs": []
    },
    {
      "cell_type": "code",
      "metadata": {
        "id": "MgZwl64lnnzk"
      },
      "source": [
        "def seed_everything(seed=1234):\n",
        "    random.seed(seed)\n",
        "    os.environ['PYTHONHASHSEED'] = str(seed)\n",
        "    np.random.seed(seed)\n",
        "    torch.manual_seed(seed)\n",
        "    # torch.cuda.manual_seed(seed)\n",
        "    # torch.backends.cudnn.deterministic = True"
      ],
      "execution_count": 9,
      "outputs": []
    },
    {
      "cell_type": "code",
      "metadata": {
        "id": "hNz7YC-Sq_4x"
      },
      "source": [
        "train_df = pd.read_csv(f'/content/drive/My Drive/BAA/train.csv')"
      ],
      "execution_count": 10,
      "outputs": []
    },
    {
      "cell_type": "code",
      "metadata": {
        "id": "gzRygoRtwxkV",
        "outputId": "554b5fb7-a58b-4e43-c629-185535c0ba8e",
        "colab": {
          "base_uri": "https://localhost:8080/"
        }
      },
      "source": [
        "len(train_df)"
      ],
      "execution_count": 11,
      "outputs": [
        {
          "output_type": "execute_result",
          "data": {
            "text/plain": [
              "12611"
            ]
          },
          "metadata": {
            "tags": []
          },
          "execution_count": 11
        }
      ]
    },
    {
      "cell_type": "code",
      "metadata": {
        "id": "nrIOGcpz6Fra",
        "outputId": "3f3bcf84-4528-4c7d-c2f4-ba145d8e8697",
        "colab": {
          "base_uri": "https://localhost:8080/",
          "height": 809
        }
      },
      "source": [
        "plt.title('Male')\n",
        "train_df['male'].astype(int).hist()\n",
        "plt.show()\n",
        "plt.title('Female_age')\n",
        "train_df[train_df['male']==False]['boneage'].hist()\n",
        "plt.show()\n",
        "plt.title('Male_age')\n",
        "train_df[train_df['male']==True]['boneage'].hist()\n",
        "plt.show()"
      ],
      "execution_count": 12,
      "outputs": [
        {
          "output_type": "display_data",
          "data": {
            "image/png": "[encoded data removed]",
            "text/plain": [
              "<Figure size 432x288 with 1 Axes>"
            ]
          },
          "metadata": {
            "tags": [],
            "needs_background": "light"
          }
        },
        {
          "output_type": "display_data",
          "data": {
            "image/png": "[encoded data removed]",
            "text/plain": [
              "<Figure size 432x288 with 1 Axes>"
            ]
          },
          "metadata": {
            "tags": [],
            "needs_background": "light"
          }
        },
        {
          "output_type": "display_data",
          "data": {
            "image/png": "[encoded data removed]",
            "text/plain": [
              "<Figure size 432x288 with 1 Axes>"
            ]
          },
          "metadata": {
            "tags": [],
            "needs_background": "light"
          }
        }
      ]
    },
    {
      "cell_type": "code",
      "metadata": {
        "id": "mNWDSFBx9bJx"
      },
      "source": [
        "val_df = pd.read_csv(f'/content/drive/My Drive/BAA/Validation Dataset.csv')"
      ],
      "execution_count": 13,
      "outputs": []
    },
    {
      "cell_type": "code",
      "metadata": {
        "id": "H6LindwLBR3d",
        "outputId": "939e3776-eefb-4fb8-a6df-f78fcc4430e8",
        "colab": {
          "base_uri": "https://localhost:8080/",
          "height": 809
        }
      },
      "source": [
        "plt.title('Male')\n",
        "val_df['male'].astype(int).hist()\n",
        "plt.show()\n",
        "plt.title('Female_age')\n",
        "val_df[train_df['male']==False]['boneage'].hist()\n",
        "plt.show()\n",
        "plt.title('Male_age')\n",
        "val_df[train_df['male']==True]['boneage'].hist()\n",
        "plt.show()"
      ],
      "execution_count": 14,
      "outputs": [
        {
          "output_type": "display_data",
          "data": {
            "image/png": "[encoded data removed]",
            "text/plain": [
              "<Figure size 432x288 with 1 Axes>"
            ]
          },
          "metadata": {
            "tags": [],
            "needs_background": "light"
          }
        },
        {
          "output_type": "display_data",
          "data": {
            "image/png": "[encoded data removed]",
            "text/plain": [
              "<Figure size 432x288 with 1 Axes>"
            ]
          },
          "metadata": {
            "tags": [],
            "needs_background": "light"
          }
        },
        {
          "output_type": "display_data",
          "data": {
            "image/png": "[encoded data removed]",
            "text/plain": [
              "<Figure size 432x288 with 1 Axes>"
            ]
          },
          "metadata": {
            "tags": [],
            "needs_background": "light"
          }
        }
      ]
    },
    {
      "cell_type": "code",
      "metadata": {
        "id": "rdX9onshZ3pk"
      },
      "source": [
        "boneage_mean = train_df['boneage'].mean()\n",
        "boneage_div = train_df['boneage'].std()"
      ],
      "execution_count": 15,
      "outputs": []
    },
    {
      "cell_type": "code",
      "metadata": {
        "id": "cp1JpnvvgYS5",
        "outputId": "f9d0c423-b072-44da-975b-9852d6d70376",
        "colab": {
          "base_uri": "https://localhost:8080/",
          "height": 399
        }
      },
      "source": [
        "train_df"
      ],
      "execution_count": 16,
      "outputs": [
        {
          "output_type": "execute_result",
          "data": {
            "text/html": [
              "<div>\n",
              "<style scoped>\n",
              "    .dataframe tbody tr th:only-of-type {\n",
              "        vertical-align: middle;\n",
              "    }\n",
              "\n",
              "    .dataframe tbody tr th {\n",
              "        vertical-align: top;\n",
              "    }\n",
              "\n",
              "    .dataframe thead th {\n",
              "        text-align: right;\n",
              "    }\n",
              "</style>\n",
              "<table border=\"1\" class=\"dataframe\">\n",
              "  <thead>\n",
              "    <tr style=\"text-align: right;\">\n",
              "      <th></th>\n",
              "      <th>id</th>\n",
              "      <th>boneage</th>\n",
              "      <th>male</th>\n",
              "    </tr>\n",
              "  </thead>\n",
              "  <tbody>\n",
              "    <tr>\n",
              "      <th>0</th>\n",
              "      <td>1377</td>\n",
              "      <td>180</td>\n",
              "      <td>False</td>\n",
              "    </tr>\n",
              "    <tr>\n",
              "      <th>1</th>\n",
              "      <td>1378</td>\n",
              "      <td>12</td>\n",
              "      <td>False</td>\n",
              "    </tr>\n",
              "    <tr>\n",
              "      <th>2</th>\n",
              "      <td>1379</td>\n",
              "      <td>94</td>\n",
              "      <td>False</td>\n",
              "    </tr>\n",
              "    <tr>\n",
              "      <th>3</th>\n",
              "      <td>1380</td>\n",
              "      <td>120</td>\n",
              "      <td>True</td>\n",
              "    </tr>\n",
              "    <tr>\n",
              "      <th>4</th>\n",
              "      <td>1381</td>\n",
              "      <td>82</td>\n",
              "      <td>False</td>\n",
              "    </tr>\n",
              "    <tr>\n",
              "      <th>...</th>\n",
              "      <td>...</td>\n",
              "      <td>...</td>\n",
              "      <td>...</td>\n",
              "    </tr>\n",
              "    <tr>\n",
              "      <th>12606</th>\n",
              "      <td>15605</td>\n",
              "      <td>50</td>\n",
              "      <td>False</td>\n",
              "    </tr>\n",
              "    <tr>\n",
              "      <th>12607</th>\n",
              "      <td>15606</td>\n",
              "      <td>113</td>\n",
              "      <td>False</td>\n",
              "    </tr>\n",
              "    <tr>\n",
              "      <th>12608</th>\n",
              "      <td>15608</td>\n",
              "      <td>55</td>\n",
              "      <td>False</td>\n",
              "    </tr>\n",
              "    <tr>\n",
              "      <th>12609</th>\n",
              "      <td>15609</td>\n",
              "      <td>150</td>\n",
              "      <td>True</td>\n",
              "    </tr>\n",
              "    <tr>\n",
              "      <th>12610</th>\n",
              "      <td>15610</td>\n",
              "      <td>132</td>\n",
              "      <td>True</td>\n",
              "    </tr>\n",
              "  </tbody>\n",
              "</table>\n",
              "<p>12611 rows × 3 columns</p>\n",
              "</div>"
            ],
            "text/plain": [
              "          id  boneage   male\n",
              "0       1377      180  False\n",
              "1       1378       12  False\n",
              "2       1379       94  False\n",
              "3       1380      120   True\n",
              "4       1381       82  False\n",
              "...      ...      ...    ...\n",
              "12606  15605       50  False\n",
              "12607  15606      113  False\n",
              "12608  15608       55  False\n",
              "12609  15609      150   True\n",
              "12610  15610      132   True\n",
              "\n",
              "[12611 rows x 3 columns]"
            ]
          },
          "metadata": {
            "tags": []
          },
          "execution_count": 16
        }
      ]
    },
    {
      "cell_type": "code",
      "metadata": {
        "id": "wWZVe55hgawx",
        "outputId": "cd2dd75a-53de-40d2-d096-3d4e2cb2762a",
        "colab": {
          "base_uri": "https://localhost:8080/",
          "height": 399
        }
      },
      "source": [
        "val_df"
      ],
      "execution_count": 17,
      "outputs": [
        {
          "output_type": "execute_result",
          "data": {
            "text/html": [
              "<div>\n",
              "<style scoped>\n",
              "    .dataframe tbody tr th:only-of-type {\n",
              "        vertical-align: middle;\n",
              "    }\n",
              "\n",
              "    .dataframe tbody tr th {\n",
              "        vertical-align: top;\n",
              "    }\n",
              "\n",
              "    .dataframe thead th {\n",
              "        text-align: right;\n",
              "    }\n",
              "</style>\n",
              "<table border=\"1\" class=\"dataframe\">\n",
              "  <thead>\n",
              "    <tr style=\"text-align: right;\">\n",
              "      <th></th>\n",
              "      <th>id</th>\n",
              "      <th>male</th>\n",
              "      <th>boneage</th>\n",
              "    </tr>\n",
              "  </thead>\n",
              "  <tbody>\n",
              "    <tr>\n",
              "      <th>0</th>\n",
              "      <td>1386</td>\n",
              "      <td>False</td>\n",
              "      <td>30</td>\n",
              "    </tr>\n",
              "    <tr>\n",
              "      <th>1</th>\n",
              "      <td>1392</td>\n",
              "      <td>True</td>\n",
              "      <td>162</td>\n",
              "    </tr>\n",
              "    <tr>\n",
              "      <th>2</th>\n",
              "      <td>1397</td>\n",
              "      <td>False</td>\n",
              "      <td>18</td>\n",
              "    </tr>\n",
              "    <tr>\n",
              "      <th>3</th>\n",
              "      <td>1401</td>\n",
              "      <td>False</td>\n",
              "      <td>132</td>\n",
              "    </tr>\n",
              "    <tr>\n",
              "      <th>4</th>\n",
              "      <td>1410</td>\n",
              "      <td>True</td>\n",
              "      <td>57</td>\n",
              "    </tr>\n",
              "    <tr>\n",
              "      <th>...</th>\n",
              "      <td>...</td>\n",
              "      <td>...</td>\n",
              "      <td>...</td>\n",
              "    </tr>\n",
              "    <tr>\n",
              "      <th>1420</th>\n",
              "      <td>15592</td>\n",
              "      <td>False</td>\n",
              "      <td>42</td>\n",
              "    </tr>\n",
              "    <tr>\n",
              "      <th>1421</th>\n",
              "      <td>15601</td>\n",
              "      <td>False</td>\n",
              "      <td>132</td>\n",
              "    </tr>\n",
              "    <tr>\n",
              "      <th>1422</th>\n",
              "      <td>15607</td>\n",
              "      <td>True</td>\n",
              "      <td>186</td>\n",
              "    </tr>\n",
              "    <tr>\n",
              "      <th>1423</th>\n",
              "      <td>15611</td>\n",
              "      <td>False</td>\n",
              "      <td>120</td>\n",
              "    </tr>\n",
              "    <tr>\n",
              "      <th>1424</th>\n",
              "      <td>15612</td>\n",
              "      <td>True</td>\n",
              "      <td>132</td>\n",
              "    </tr>\n",
              "  </tbody>\n",
              "</table>\n",
              "<p>1425 rows × 3 columns</p>\n",
              "</div>"
            ],
            "text/plain": [
              "         id   male  boneage\n",
              "0      1386  False       30\n",
              "1      1392   True      162\n",
              "2      1397  False       18\n",
              "3      1401  False      132\n",
              "4      1410   True       57\n",
              "...     ...    ...      ...\n",
              "1420  15592  False       42\n",
              "1421  15601  False      132\n",
              "1422  15607   True      186\n",
              "1423  15611  False      120\n",
              "1424  15612   True      132\n",
              "\n",
              "[1425 rows x 3 columns]"
            ]
          },
          "metadata": {
            "tags": []
          },
          "execution_count": 17
        }
      ]
    },
    {
      "cell_type": "code",
      "metadata": {
        "id": "UUavllAYP1LQ"
      },
      "source": [
        "test_df = pd.read_excel('/content/drive/My Drive/BAA/Bone age ground truth.xlsx')"
      ],
      "execution_count": 18,
      "outputs": []
    },
    {
      "cell_type": "markdown",
      "metadata": {
        "id": "OlDFjLhZfhx-"
      },
      "source": [
        "### Create data set"
      ]
    },
    {
      "cell_type": "code",
      "metadata": {
        "id": "Juo73f72XhZT"
      },
      "source": [
        ""
      ],
      "execution_count": 18,
      "outputs": []
    },
    {
      "cell_type": "code",
      "metadata": {
        "id": "DRfD97-YWBrw"
      },
      "source": [
        "# norm_mean = [0.485, 0.456, 0.406]\n",
        "# norm_std = [0.229, 0.224, 0.225]\n",
        "# #R*0.299 + G*0.587 + B*0.114\n",
        "# a = np.array([0.299, 0.587, 0.114])\n",
        "# a.dot(np.array(norm_mean))\n",
        "# a.dot(np.array(norm_std))"
      ],
      "execution_count": 19,
      "outputs": []
    },
    {
      "cell_type": "code",
      "metadata": {
        "id": "0B_59mX-7F0E"
      },
      "source": [
        "norm_mean = [0.143] #0.458971\n",
        "norm_std = [0.144] #0.225609\n",
        "\n",
        "# norm_mean = [0.143, 0.143, 0.143] \n",
        "# norm_std = [0.144, 0.144, 0.144] \n",
        "\n",
        "RandomErasing = transforms.RandomErasing(scale=(0.02, 0.08), ratio = (0.5, 2), p = 0.8)\n",
        "\n",
        "def randomErase(image, **kwargs):\n",
        "    return RandomErasing(image)\n",
        "\n",
        "def sample_normalize(image, **kwargs):\n",
        "    image = image/255\n",
        "    channel = image.shape[2]\n",
        "    mean, std = image.reshape((-1, channel)).mean(axis = 0), image.reshape((-1, channel)).std(axis = 0)\n",
        "    return (image-mean)/(std + 1e-3)\n",
        "\n",
        "\n",
        "# rotation range of 20 degrees, horizontal/vertical translation up to 20%, zoom up to 20% and a horizontal flip\n",
        "# transform_train = Compose([\n",
        "#     ShiftScaleRotate(shift_limit = 0.2, scale_limit = 0.2, rotate_limit=20, p = 0.8),\n",
        "#     HorizontalFlip(p = 0.5),\n",
        "#     RandomBrightnessContrast(p = 0.8), \n",
        "#     Normalize(mean=norm_mean, std = norm_std, p = 1),                                    \n",
        "#     ToTensor(),\n",
        "#     Lambda(image = randomErase) \n",
        "    \n",
        "# ])\n",
        "\n",
        "# transform_val = Compose([                                   \n",
        "#     Normalize(mean=norm_mean, std = norm_std, p = 1),\n",
        "#     ToTensor(),\n",
        "# ])\n",
        "\n",
        "transform_train = Compose([\n",
        "    # RandomBrightnessContrast(p = 0.8),\n",
        "    RandomResizedCrop(512, 512, (0.5, 1.0), p = 0.5),\n",
        "    ShiftScaleRotate(shift_limit = 0.2, scale_limit = 0.2, rotate_limit=20, border_mode = cv2.BORDER_CONSTANT, value = 0.0, p = 0.8),\n",
        "    # HorizontalFlip(p = 0.5),\n",
        "    \n",
        "    # ShiftScaleRotate(shift_limit = 0.2, scale_limit = 0.2, rotate_limit=20, p = 0.8),\n",
        "    HorizontalFlip(p = 0.5),\n",
        "    RandomBrightnessContrast(p = 0.8),                             \n",
        "    Lambda(image = sample_normalize),\n",
        "    ToTensor(),\n",
        "    Lambda(image = randomErase) \n",
        "    \n",
        "])\n",
        "\n",
        "transform_val = Compose([                                   \n",
        "    Lambda(image = sample_normalize),\n",
        "    ToTensor(),\n",
        "])\n",
        "\n",
        "transform_test = Compose([                                   \n",
        "    Lambda(image = sample_normalize),\n",
        "    ToTensor(),\n",
        "])"
      ],
      "execution_count": 20,
      "outputs": []
    },
    {
      "cell_type": "code",
      "metadata": {
        "id": "LE-OKIDiDOTk"
      },
      "source": [
        "# from torchvision.transforms import Normalize\n",
        "\n",
        "# class Unnormalize:\n",
        "#     \"\"\"Converts an image tensor that was previously Normalize'd\n",
        "#     back to an image with pixels in the range [0, 1].\"\"\"\n",
        "#     def __init__(self, mean, std):\n",
        "#         self.mean = mean\n",
        "#         self.std = std\n",
        "\n",
        "#     def __call__(self, tensor):\n",
        "#         mean = torch.as_tensor(self.mean, dtype=tensor.dtype, device=tensor.device)\n",
        "#         std = torch.as_tensor(self.std, dtype=tensor.dtype, device=tensor.device)\n",
        "#         return torch.clamp(tensor*std + mean, 0., 1.)\n",
        "\n",
        "# unnormalize_transform = Unnormalize(norm_mean, norm_std)"
      ],
      "execution_count": 21,
      "outputs": []
    },
    {
      "cell_type": "code",
      "metadata": {
        "id": "I-CEpURmHCIL"
      },
      "source": [
        "# def read_image(path, image_size = 512):\n",
        "#     img = Image.open(path)\n",
        "#     w, h = img.size\n",
        "#     long = max(w, h)\n",
        "#     w, h = int(w/long*image_size), int(h/long*image_size)\n",
        "#     img = img.resize((w, h), Image.ANTIALIAS)\n",
        "#     delta_w, delta_h = image_size - w, image_size - h\n",
        "#     padding = (delta_w//2, delta_h//2, delta_w-(delta_w//2), delta_h-(delta_h//2))\n",
        "#     return np.expand_dims(np.array(ImageOps.expand(img, padding)), axis=2)\n",
        "\n",
        "def read_image(path, image_size = 512):\n",
        "    img = Image.open(path)\n",
        "    w, h = img.size\n",
        "    long = max(w, h)\n",
        "    w, h = int(w/long*image_size), int(h/long*image_size)\n",
        "    img = img.resize((w, h), Image.ANTIALIAS)\n",
        "    delta_w, delta_h = image_size - w, image_size - h\n",
        "    padding = (delta_w//2, delta_h//2, delta_w-(delta_w//2), delta_h-(delta_h//2))\n",
        "    return np.array(ImageOps.expand(img, padding).convert(\"RGB\"))"
      ],
      "execution_count": 22,
      "outputs": []
    },
    {
      "cell_type": "code",
      "metadata": {
        "id": "yJN1OP-aCkLr"
      },
      "source": [
        "class BAATrainDataset(Dataset):\n",
        "    def __init__(self, df, file_path):\n",
        "        def preprocess_df(df):\n",
        "            #nomalize boneage distribution\n",
        "            df['zscore'] = df['boneage'].map(lambda x: (x - boneage_mean)/boneage_div )\n",
        "            #change the type of gender, change bool variable to float32\n",
        "            df['male'] = df['male'].astype('float32')\n",
        "            df['bonage'] = df['boneage'].astype('float32')\n",
        "            return df\n",
        "\n",
        "        self.df = preprocess_df(df)\n",
        "        self.file_path = file_path\n",
        "        \n",
        "    def __getitem__(self, index):\n",
        "        row = self.df.iloc[index]\n",
        "        num = int(row['id'])\n",
        "        return (transform_train(image = read_image(f\"{self.file_path}/{num//1000}/{num}.png\"))['image'], Tensor([row['male']])), row['zscore']\n",
        "    \n",
        "    def __len__(self):\n",
        "        return len(self.df)\n",
        "class BAAValDataset(Dataset):\n",
        "    def __init__(self, df, file_path):\n",
        "        def preprocess_df(df):\n",
        "            #change the type of gender, change bool variable to float32\n",
        "            df['male'] = df['male'].astype('float32')\n",
        "            df['bonage'] = df['boneage'].astype('float32')\n",
        "            return df\n",
        "        self.df = preprocess_df(df)\n",
        "        self.file_path = file_path\n",
        "        \n",
        "    def __getitem__(self, index):\n",
        "        row = self.df.iloc[index]\n",
        "        return (transform_val(image = read_image(f\"{self.file_path}/{int(row['id'])}.png\"))['image'], Tensor([row['male']])), row['boneage']\n",
        "    \n",
        "    def __len__(self):\n",
        "        return len(self.df)\n",
        "        \n",
        "class BAATestDataset(Dataset):\n",
        "    def __init__(self, df, file_path):\n",
        "        def preprocess_df(df):\n",
        "            #change the type of gender, change bool variable to float32\n",
        "            df['male'] = (df['Sex'] == 'M').astype('float32')\n",
        "            df['boneage'] = df['Ground truth bone age (months)'].astype('float32')\n",
        "            df['id'] = df['Case ID'].astype('int32')\n",
        "            return df\n",
        "        self.df = preprocess_df(df)\n",
        "        print(self.df.head())\n",
        "        self.file_path = file_path\n",
        "        \n",
        "    def __getitem__(self, index):\n",
        "        row = self.df.iloc[index]\n",
        "        return (transform_test(image = read_image(f\"{self.file_path}/{int(row['id'])}.png\"))['image'], Tensor([row['male']])), row['boneage']\n",
        "    \n",
        "    def __len__(self):\n",
        "        return len(self.df) \n",
        "\n",
        "def create_data_loader(train_df, val_df, test_df, train_root, val_root, test_root):\n",
        "    return BAATrainDataset(train_df, train_root), BAAValDataset(val_df, val_root), BAATestDataset(test_df, test_root)"
      ],
      "execution_count": 23,
      "outputs": []
    },
    {
      "cell_type": "code",
      "metadata": {
        "id": "JY9pq74GLBum",
        "outputId": "15ac1211-5444-453b-8766-6bdd287c1a13",
        "colab": {
          "base_uri": "https://localhost:8080/"
        }
      },
      "source": [
        "!ls '/content/drive/My Drive/BAA/boneage-training-dataset/1377.png'"
      ],
      "execution_count": 24,
      "outputs": [
        {
          "output_type": "stream",
          "text": [
            "ls: cannot access '/content/drive/My Drive/BAA/boneage-training-dataset/1377.png': No such file or directory\n"
          ],
          "name": "stdout"
        }
      ]
    },
    {
      "cell_type": "code",
      "metadata": {
        "id": "vA-p8KZcUM0M",
        "outputId": "773872a7-c364-46ad-8026-5ecd3d38f8c8",
        "colab": {
          "base_uri": "https://localhost:8080/"
        }
      },
      "source": [
        "train_set, val_set, test_set = create_data_loader(train_df, val_df, test_df, '/content/drive/My Drive/BAA/boneage-training-dataset', '/content/drive/My Drive/BAA/boneage-validation-dataset', '/content/drive/My Drive/BAA/Test Set Images')"
      ],
      "execution_count": 25,
      "outputs": [
        {
          "output_type": "stream",
          "text": [
            "   Case ID Sex  Ground truth bone age (months)  male     boneage    id\n",
            "0     4360   M                      168.934249   1.0  168.934250  4360\n",
            "1     4361   M                      169.652678   1.0  169.652679  4361\n",
            "2     4362   M                       73.256112   1.0   73.256111  4362\n",
            "3     4363   M                      152.862669   1.0  152.862671  4363\n",
            "4     4364   M                      135.456954   1.0  135.456955  4364\n"
          ],
          "name": "stdout"
        }
      ]
    },
    {
      "cell_type": "code",
      "metadata": {
        "id": "D9ZYChOKOHZc"
      },
      "source": [
        "# def create_data_loader(train_df, val_df, train_root, val_root, batch_size = 32, num_numbers = 4):\n",
        "#     train_set = DataLoader(BAATrainDataset(train_df, train_root), \\\n",
        "#                         batch_size = batch_size, pin_memory=True, num_workers = num_numbers)\n",
        "#     val_set = DataLoader(BAAValDataset(val_df, val_root),\\\n",
        "#                         batch_size = 2*batch_size, pin_memory=True, num_workers = num_numbers)\n",
        "#     return train_set, val_set\n",
        "\n",
        "# class Unnormalize:\n",
        "#     \"\"\"Converts an image tensor that was previously Normalize'd\n",
        "#     back to an image with pixels in the range [0, 1].\"\"\"\n",
        "#     def __init__(self, mean, std):\n",
        "#         self.mean = mean\n",
        "#         self.std = std\n",
        "\n",
        "#     def __call__(self, tensor):\n",
        "#         mean = torch.as_tensor(self.mean, dtype=tensor.dtype, device=tensor.device)\n",
        "#         std = torch.as_tensor(self.std, dtype=tensor.dtype, device=tensor.device)\n",
        "#         return torch.clamp(tensor*std + mean, 0., 1.)\n",
        "\n",
        "# unnormalize_transform = Unnormalize(norm_mean, norm_std)\n",
        "\n",
        "# train_loader, val_loader = create_data_loader(train_df, val_df, '/content/drive/My Drive/BAA/boneage-training-dataset', '/content/drive/My Drive/BAA/boneage-validation-dataset')\n",
        "# t_x, t_y = next(iter(train_loader))\n",
        "# fig, m_axs = plt.subplots(4, 4, figsize = (16, 8))\n",
        "\n",
        "# for (c_x0, c_x1, c_y, c_ax) in zip(*t_x, t_y, m_axs.flatten()):\n",
        "#     print(c_x0[0].shape)\n",
        "#     c_ax.imshow(unnormalize_transform(c_x0)[0], cmap = 'gray')\n",
        "#     c_ax.set_title(f'{(c_y*boneage_div+boneage_mean):2.0f} months, {\"male\" if c_x1 else \"female\"}')\n",
        "#     c_ax.axis('off')"
      ],
      "execution_count": 26,
      "outputs": []
    },
    {
      "cell_type": "markdown",
      "metadata": {
        "id": "ly2WDirlfo6P"
      },
      "source": [
        "### Define model"
      ]
    },
    {
      "cell_type": "code",
      "metadata": {
        "id": "br4AbYctLaaN",
        "outputId": "5e37fe60-4984-4f80-e5f9-a452bebf2afd",
        "colab": {
          "base_uri": "https://localhost:8080/",
          "height": 1000,
          "referenced_widgets": [
            "509b3f981dc64e1b823220f3e086468d",
            "d658b2a132974dbc96808654265c539b",
            "d1d38755703a4db4b2ced4f99fe5e5ed",
            "d188296bbc65413dbeab6a3d14a57614",
            "6c272e4d269f4af7b2db4af48ac3585f",
            "22e8ed338038412fba8f81f46ee21d22",
            "c2cb45bd8446493aa856387b0b04cae6",
            "1cb7b94a87f7451196bd97083d68edc0"
          ]
        }
      },
      "source": [
        "from pretrainedmodels import se_resnext101_32x4d, se_resnet152, xception, inceptionv4, inceptionresnetv2\n",
        "from torchvision.models import resnet18, resnet34, resnet50\n",
        "\n",
        "def get_My_resnet18():\n",
        "    model = resnet18(pretrained = True)\n",
        "    output_channels = model.fc.in_features\n",
        "    model = list(model.children())[:-2]\n",
        "    return model, output_channels\n",
        "\n",
        "def get_My_resnet34():\n",
        "    model = resnet34(pretrained = True)\n",
        "    output_channels = model.fc.in_features\n",
        "    model = list(model.children())[:-2]\n",
        "    return model, output_channels\n",
        "\n",
        "def get_My_resnet50():\n",
        "    model = resnet50(pretrained = True)\n",
        "    output_channels = model.fc.in_features\n",
        "    model = list(model.children())[:-2]\n",
        "    return model, output_channels\n",
        "\n",
        "def get_My_se_resnet152():\n",
        "    model = se_resnet152(pretrained = None)\n",
        "    output_channels = model.last_linear.in_features\n",
        "    model = nn.Sequential(*list(model.children())[:-2])\n",
        "    return model, output_channels\n",
        "\n",
        "def get_My_se_resnext101_32x4d():\n",
        "    model = se_resnext101_32x4d()\n",
        "    output_channels = model.last_linear.in_features\n",
        "    model = nn.Sequential(*list(model.children())[:-2])\n",
        "    return model, output_channels\n",
        "\n",
        "def get_My_inceptionv4():\n",
        "    model = inceptionv4()\n",
        "    output_channels = model.last_linear.in_features\n",
        "    model = list(model.children())[:-2]\n",
        "    \n",
        "    model = nn.Sequential(*model)\n",
        "    return model, output_channels\n",
        "\n",
        "def get_My_inceptionresnetv2():\n",
        "    model = inceptionresnetv2()\n",
        "    output_channels = model.last_linear.in_features\n",
        "    model = list(model.children())[:-2]\n",
        "    \n",
        "    model = nn.Sequential(*model)\n",
        "    return model, output_channels\n",
        "\n",
        "# get_My_se_resnet152()\n",
        "a, b = get_My_resnet34()\n",
        "a"
      ],
      "execution_count": 27,
      "outputs": [
        {
          "output_type": "stream",
          "text": [
            "Downloading: \"https://download.pytorch.org/models/resnet34-333f7ec4.pth\" to /root/.cache/torch/hub/checkpoints/resnet34-333f7ec4.pth\n"
          ],
          "name": "stderr"
        },
        {
          "output_type": "display_data",
          "data": {
            "application/vnd.jupyter.widget-view+json": {
              "model_id": "509b3f981dc64e1b823220f3e086468d",
              "version_minor": 0,
              "version_major": 2
            },
            "text/plain": [
              "HBox(children=(FloatProgress(value=0.0, max=87306240.0), HTML(value='')))"
            ]
          },
          "metadata": {
            "tags": []
          }
        },
        {
          "output_type": "stream",
          "text": [
            "\n"
          ],
          "name": "stdout"
        },
        {
          "output_type": "execute_result",
          "data": {
            "text/plain": [
              "[Conv2d(3, 64, kernel_size=(7, 7), stride=(2, 2), padding=(3, 3), bias=False),\n",
              " BatchNorm2d(64, eps=1e-05, momentum=0.1, affine=True, track_running_stats=True),\n",
              " ReLU(inplace=True),\n",
              " MaxPool2d(kernel_size=3, stride=2, padding=1, dilation=1, ceil_mode=False),\n",
              " Sequential(\n",
              "   (0): BasicBlock(\n",
              "     (conv1): Conv2d(64, 64, kernel_size=(3, 3), stride=(1, 1), padding=(1, 1), bias=False)\n",
              "     (bn1): BatchNorm2d(64, eps=1e-05, momentum=0.1, affine=True, track_running_stats=True)\n",
              "     (relu): ReLU(inplace=True)\n",
              "     (conv2): Conv2d(64, 64, kernel_size=(3, 3), stride=(1, 1), padding=(1, 1), bias=False)\n",
              "     (bn2): BatchNorm2d(64, eps=1e-05, momentum=0.1, affine=True, track_running_stats=True)\n",
              "   )\n",
              "   (1): BasicBlock(\n",
              "     (conv1): Conv2d(64, 64, kernel_size=(3, 3), stride=(1, 1), padding=(1, 1), bias=False)\n",
              "     (bn1): BatchNorm2d(64, eps=1e-05, momentum=0.1, affine=True, track_running_stats=True)\n",
              "     (relu): ReLU(inplace=True)\n",
              "     (conv2): Conv2d(64, 64, kernel_size=(3, 3), stride=(1, 1), padding=(1, 1), bias=False)\n",
              "     (bn2): BatchNorm2d(64, eps=1e-05, momentum=0.1, affine=True, track_running_stats=True)\n",
              "   )\n",
              "   (2): BasicBlock(\n",
              "     (conv1): Conv2d(64, 64, kernel_size=(3, 3), stride=(1, 1), padding=(1, 1), bias=False)\n",
              "     (bn1): BatchNorm2d(64, eps=1e-05, momentum=0.1, affine=True, track_running_stats=True)\n",
              "     (relu): ReLU(inplace=True)\n",
              "     (conv2): Conv2d(64, 64, kernel_size=(3, 3), stride=(1, 1), padding=(1, 1), bias=False)\n",
              "     (bn2): BatchNorm2d(64, eps=1e-05, momentum=0.1, affine=True, track_running_stats=True)\n",
              "   )\n",
              " ),\n",
              " Sequential(\n",
              "   (0): BasicBlock(\n",
              "     (conv1): Conv2d(64, 128, kernel_size=(3, 3), stride=(2, 2), padding=(1, 1), bias=False)\n",
              "     (bn1): BatchNorm2d(128, eps=1e-05, momentum=0.1, affine=True, track_running_stats=True)\n",
              "     (relu): ReLU(inplace=True)\n",
              "     (conv2): Conv2d(128, 128, kernel_size=(3, 3), stride=(1, 1), padding=(1, 1), bias=False)\n",
              "     (bn2): BatchNorm2d(128, eps=1e-05, momentum=0.1, affine=True, track_running_stats=True)\n",
              "     (downsample): Sequential(\n",
              "       (0): Conv2d(64, 128, kernel_size=(1, 1), stride=(2, 2), bias=False)\n",
              "       (1): BatchNorm2d(128, eps=1e-05, momentum=0.1, affine=True, track_running_stats=True)\n",
              "     )\n",
              "   )\n",
              "   (1): BasicBlock(\n",
              "     (conv1): Conv2d(128, 128, kernel_size=(3, 3), stride=(1, 1), padding=(1, 1), bias=False)\n",
              "     (bn1): BatchNorm2d(128, eps=1e-05, momentum=0.1, affine=True, track_running_stats=True)\n",
              "     (relu): ReLU(inplace=True)\n",
              "     (conv2): Conv2d(128, 128, kernel_size=(3, 3), stride=(1, 1), padding=(1, 1), bias=False)\n",
              "     (bn2): BatchNorm2d(128, eps=1e-05, momentum=0.1, affine=True, track_running_stats=True)\n",
              "   )\n",
              "   (2): BasicBlock(\n",
              "     (conv1): Conv2d(128, 128, kernel_size=(3, 3), stride=(1, 1), padding=(1, 1), bias=False)\n",
              "     (bn1): BatchNorm2d(128, eps=1e-05, momentum=0.1, affine=True, track_running_stats=True)\n",
              "     (relu): ReLU(inplace=True)\n",
              "     (conv2): Conv2d(128, 128, kernel_size=(3, 3), stride=(1, 1), padding=(1, 1), bias=False)\n",
              "     (bn2): BatchNorm2d(128, eps=1e-05, momentum=0.1, affine=True, track_running_stats=True)\n",
              "   )\n",
              "   (3): BasicBlock(\n",
              "     (conv1): Conv2d(128, 128, kernel_size=(3, 3), stride=(1, 1), padding=(1, 1), bias=False)\n",
              "     (bn1): BatchNorm2d(128, eps=1e-05, momentum=0.1, affine=True, track_running_stats=True)\n",
              "     (relu): ReLU(inplace=True)\n",
              "     (conv2): Conv2d(128, 128, kernel_size=(3, 3), stride=(1, 1), padding=(1, 1), bias=False)\n",
              "     (bn2): BatchNorm2d(128, eps=1e-05, momentum=0.1, affine=True, track_running_stats=True)\n",
              "   )\n",
              " ),\n",
              " Sequential(\n",
              "   (0): BasicBlock(\n",
              "     (conv1): Conv2d(128, 256, kernel_size=(3, 3), stride=(2, 2), padding=(1, 1), bias=False)\n",
              "     (bn1): BatchNorm2d(256, eps=1e-05, momentum=0.1, affine=True, track_running_stats=True)\n",
              "     (relu): ReLU(inplace=True)\n",
              "     (conv2): Conv2d(256, 256, kernel_size=(3, 3), stride=(1, 1), padding=(1, 1), bias=False)\n",
              "     (bn2): BatchNorm2d(256, eps=1e-05, momentum=0.1, affine=True, track_running_stats=True)\n",
              "     (downsample): Sequential(\n",
              "       (0): Conv2d(128, 256, kernel_size=(1, 1), stride=(2, 2), bias=False)\n",
              "       (1): BatchNorm2d(256, eps=1e-05, momentum=0.1, affine=True, track_running_stats=True)\n",
              "     )\n",
              "   )\n",
              "   (1): BasicBlock(\n",
              "     (conv1): Conv2d(256, 256, kernel_size=(3, 3), stride=(1, 1), padding=(1, 1), bias=False)\n",
              "     (bn1): BatchNorm2d(256, eps=1e-05, momentum=0.1, affine=True, track_running_stats=True)\n",
              "     (relu): ReLU(inplace=True)\n",
              "     (conv2): Conv2d(256, 256, kernel_size=(3, 3), stride=(1, 1), padding=(1, 1), bias=False)\n",
              "     (bn2): BatchNorm2d(256, eps=1e-05, momentum=0.1, affine=True, track_running_stats=True)\n",
              "   )\n",
              "   (2): BasicBlock(\n",
              "     (conv1): Conv2d(256, 256, kernel_size=(3, 3), stride=(1, 1), padding=(1, 1), bias=False)\n",
              "     (bn1): BatchNorm2d(256, eps=1e-05, momentum=0.1, affine=True, track_running_stats=True)\n",
              "     (relu): ReLU(inplace=True)\n",
              "     (conv2): Conv2d(256, 256, kernel_size=(3, 3), stride=(1, 1), padding=(1, 1), bias=False)\n",
              "     (bn2): BatchNorm2d(256, eps=1e-05, momentum=0.1, affine=True, track_running_stats=True)\n",
              "   )\n",
              "   (3): BasicBlock(\n",
              "     (conv1): Conv2d(256, 256, kernel_size=(3, 3), stride=(1, 1), padding=(1, 1), bias=False)\n",
              "     (bn1): BatchNorm2d(256, eps=1e-05, momentum=0.1, affine=True, track_running_stats=True)\n",
              "     (relu): ReLU(inplace=True)\n",
              "     (conv2): Conv2d(256, 256, kernel_size=(3, 3), stride=(1, 1), padding=(1, 1), bias=False)\n",
              "     (bn2): BatchNorm2d(256, eps=1e-05, momentum=0.1, affine=True, track_running_stats=True)\n",
              "   )\n",
              "   (4): BasicBlock(\n",
              "     (conv1): Conv2d(256, 256, kernel_size=(3, 3), stride=(1, 1), padding=(1, 1), bias=False)\n",
              "     (bn1): BatchNorm2d(256, eps=1e-05, momentum=0.1, affine=True, track_running_stats=True)\n",
              "     (relu): ReLU(inplace=True)\n",
              "     (conv2): Conv2d(256, 256, kernel_size=(3, 3), stride=(1, 1), padding=(1, 1), bias=False)\n",
              "     (bn2): BatchNorm2d(256, eps=1e-05, momentum=0.1, affine=True, track_running_stats=True)\n",
              "   )\n",
              "   (5): BasicBlock(\n",
              "     (conv1): Conv2d(256, 256, kernel_size=(3, 3), stride=(1, 1), padding=(1, 1), bias=False)\n",
              "     (bn1): BatchNorm2d(256, eps=1e-05, momentum=0.1, affine=True, track_running_stats=True)\n",
              "     (relu): ReLU(inplace=True)\n",
              "     (conv2): Conv2d(256, 256, kernel_size=(3, 3), stride=(1, 1), padding=(1, 1), bias=False)\n",
              "     (bn2): BatchNorm2d(256, eps=1e-05, momentum=0.1, affine=True, track_running_stats=True)\n",
              "   )\n",
              " ),\n",
              " Sequential(\n",
              "   (0): BasicBlock(\n",
              "     (conv1): Conv2d(256, 512, kernel_size=(3, 3), stride=(2, 2), padding=(1, 1), bias=False)\n",
              "     (bn1): BatchNorm2d(512, eps=1e-05, momentum=0.1, affine=True, track_running_stats=True)\n",
              "     (relu): ReLU(inplace=True)\n",
              "     (conv2): Conv2d(512, 512, kernel_size=(3, 3), stride=(1, 1), padding=(1, 1), bias=False)\n",
              "     (bn2): BatchNorm2d(512, eps=1e-05, momentum=0.1, affine=True, track_running_stats=True)\n",
              "     (downsample): Sequential(\n",
              "       (0): Conv2d(256, 512, kernel_size=(1, 1), stride=(2, 2), bias=False)\n",
              "       (1): BatchNorm2d(512, eps=1e-05, momentum=0.1, affine=True, track_running_stats=True)\n",
              "     )\n",
              "   )\n",
              "   (1): BasicBlock(\n",
              "     (conv1): Conv2d(512, 512, kernel_size=(3, 3), stride=(1, 1), padding=(1, 1), bias=False)\n",
              "     (bn1): BatchNorm2d(512, eps=1e-05, momentum=0.1, affine=True, track_running_stats=True)\n",
              "     (relu): ReLU(inplace=True)\n",
              "     (conv2): Conv2d(512, 512, kernel_size=(3, 3), stride=(1, 1), padding=(1, 1), bias=False)\n",
              "     (bn2): BatchNorm2d(512, eps=1e-05, momentum=0.1, affine=True, track_running_stats=True)\n",
              "   )\n",
              "   (2): BasicBlock(\n",
              "     (conv1): Conv2d(512, 512, kernel_size=(3, 3), stride=(1, 1), padding=(1, 1), bias=False)\n",
              "     (bn1): BatchNorm2d(512, eps=1e-05, momentum=0.1, affine=True, track_running_stats=True)\n",
              "     (relu): ReLU(inplace=True)\n",
              "     (conv2): Conv2d(512, 512, kernel_size=(3, 3), stride=(1, 1), padding=(1, 1), bias=False)\n",
              "     (bn2): BatchNorm2d(512, eps=1e-05, momentum=0.1, affine=True, track_running_stats=True)\n",
              "   )\n",
              " )]"
            ]
          },
          "metadata": {
            "tags": []
          },
          "execution_count": 27
        }
      ]
    },
    {
      "cell_type": "code",
      "metadata": {
        "id": "zymiOIfXeirt"
      },
      "source": [
        "# from collections import OrderedDict\n",
        "# layer0_modules = [\n",
        "#   ('conv1', nn.Conv2d(1, 64, kernel_size=7, stride=2,\n",
        "#                       padding=3, bias=False)),\n",
        "#   ('bn1', nn.BatchNorm2d(64)),\n",
        "#   ('relu1', nn.ReLU(inplace=True)),\n",
        "# ]\n",
        "# layer0_modules.append(('pool', nn.MaxPool2d(3, stride=2, ceil_mode=True)))\n",
        "# layer0_modules = nn.Sequential(OrderedDict(layer0_modules))\n",
        "\n",
        "# from pretrainedmodels import se_resnext101_32x4d, se_resnet152, xception, inceptionv4\n",
        "\n",
        "# def get_My_se_resnet152():\n",
        "#     model = se_resnet152()\n",
        "#     output_channels = model.last_linear.in_features\n",
        "#     model = list(model.children())[:-2]\n",
        "#     model[0] = layer0_modules\n",
        "    \n",
        "#     model = nn.Sequential(*model)\n",
        "#     return model, output_channels\n",
        "\n",
        "# def get_My_xception():\n",
        "#     model = xception()\n",
        "#     output_channels = model.last_linear.in_features\n",
        "#     model = list(model.children())[:-2]\n",
        "#     model[0] = nn.Conv2d(1, 32, 3,2, 0, bias=False)\n",
        "    \n",
        "#     model = nn.Sequential(*model)\n",
        "#     return model, output_channels\n",
        "\n",
        "# class BasicConv2d(nn.Module):\n",
        "\n",
        "#     def __init__(self, in_planes, out_planes, kernel_size, stride, padding=0):\n",
        "#         super(BasicConv2d, self).__init__()\n",
        "#         self.conv = nn.Conv2d(in_planes, out_planes,\n",
        "#                               kernel_size=kernel_size, stride=stride,\n",
        "#                               padding=padding, bias=False) # verify bias false\n",
        "#         self.bn = nn.BatchNorm2d(out_planes,\n",
        "#                                  eps=0.001, # value found in tensorflow\n",
        "#                                  momentum=0.1, # default pytorch value\n",
        "#                                  affine=True)\n",
        "#         self.relu = nn.ReLU(inplace=True)\n",
        "\n",
        "#     def forward(self, x):\n",
        "#         x = self.conv(x)\n",
        "#         x = self.bn(x)\n",
        "#         x = self.relu(x)\n",
        "#         return x\n",
        "\n"
      ],
      "execution_count": 28,
      "outputs": []
    },
    {
      "cell_type": "code",
      "metadata": {
        "id": "LuZHE7Sl-CRW",
        "outputId": "5bf3acbd-d4f9-4578-b821-3c98cce74072",
        "colab": {
          "base_uri": "https://localhost:8080/"
        }
      },
      "source": [
        "4//2**2"
      ],
      "execution_count": 29,
      "outputs": [
        {
          "output_type": "execute_result",
          "data": {
            "text/plain": [
              "1"
            ]
          },
          "metadata": {
            "tags": []
          },
          "execution_count": 29
        }
      ]
    },
    {
      "cell_type": "code",
      "metadata": {
        "id": "kIGDLj8Rg86W"
      },
      "source": [
        "class Pooling_attention(nn.Module):\n",
        "  def __init__(self, input_channels, kernel_size = 1):\n",
        "    super(Pooling_attention, self).__init__()\n",
        "    self.pooling_attention = nn.Sequential(\n",
        "        nn.Conv2d(input_channels, 1, kernel_size = kernel_size, padding = kernel_size//2),\n",
        "        nn.ReLU()\n",
        "    )\n",
        "  def forward(self, x):\n",
        "    return self.pooling_attention(x) \n",
        "\n",
        "\n",
        "# class Part_Relation(nn.Module):\n",
        "#   def __init__(self, input_channels, reduction = 16):\n",
        "#     super(Part_Relation, self).__init__()\n",
        "#     self.pooling_attention_0 = nn.Sequential(\n",
        "#       nn.Conv2d(input_channels, input_channels//reduction, kernel_size = 1),\n",
        "#       nn.BatchNorm2d(input_channels//reduction),\n",
        "#       nn.ReLU()\n",
        "#     )\n",
        "#     self.pooling_attention_1 = Pooling_attention(input_channels//reduction, 1)\n",
        "#     self.pooling_attention_3 = Pooling_attention(input_channels//reduction, 3)\n",
        "#     self.pooling_attention_5 = Pooling_attention(input_channels//reduction, 5)\n",
        "\n",
        "#     self.last_conv =  nn.Sequential(\n",
        "#         nn.Conv2d(3, 1, kernel_size = 1),\n",
        "#         nn.Sigmoid()\n",
        "#     )\n",
        "\n",
        "\n",
        "    # self.se = SEModule(input_channels, 16)\n",
        "#   def forward(self, x):\n",
        "#     input = x\n",
        "#     x = self.pooling_attention_0(x)\n",
        "#     x = torch.cat([self.pooling_attention_1(x), self.pooling_attention_3(x), self.pooling_attention_5(x)], dim = 1)\n",
        "#     x = self.last_conv(x)\n",
        "#     return input + input*x\n",
        "\n",
        "class Part_Relation(nn.Module):\n",
        "  def __init__(self, input_channels, reduction = [16], level = 1):\n",
        "    super(Part_Relation, self).__init__()\n",
        "    \n",
        "    modules = []\n",
        "    for i in range(level):\n",
        "        output_channels = input_channels//reduction[i]\n",
        "        modules.append(nn.Conv2d(input_channels, output_channels, kernel_size = 1))\n",
        "        modules.append(nn.BatchNorm2d(output_channels))\n",
        "        modules.append(nn.ReLU())\n",
        "        input_channels = output_channels\n",
        "\n",
        "    self.pooling_attention_0 = nn.Sequential(*modules)\n",
        "    self.pooling_attention_1 = Pooling_attention(input_channels, 1)\n",
        "    self.pooling_attention_3 = Pooling_attention(input_channels, 3)\n",
        "    self.pooling_attention_5 = Pooling_attention(input_channels, 5)\n",
        "\n",
        "    self.last_conv =  nn.Sequential(\n",
        "        nn.Conv2d(3, 1, kernel_size = 1),\n",
        "        nn.Sigmoid()\n",
        "    )\n",
        "  def forward(self, x):\n",
        "    input = x\n",
        "    x = self.pooling_attention_0(x)\n",
        "    x = torch.cat([self.pooling_attention_1(x), self.pooling_attention_3(x), self.pooling_attention_5(x)], dim = 1)\n",
        "    x = self.last_conv(x)\n",
        "    return input*x"
      ],
      "execution_count": 30,
      "outputs": []
    },
    {
      "cell_type": "code",
      "metadata": {
        "id": "nupnBC96r54k"
      },
      "source": [
        "class BAA_New(nn.Module):\n",
        "    def __init__(self, gender_encode_length, backbone, out_channels):\n",
        "        super(BAA_New, self).__init__()\n",
        "        self.backbone0 = nn.Sequential(*backbone[0:5])\n",
        "        self.out_channels = out_channels\n",
        "        self.backbone1 = backbone[5]\n",
        "        self.backbone2 = backbone[6]\n",
        "        self.backbone3 = backbone[7]\n",
        "\n",
        "        self.part_relation0 = Part_Relation(64)\n",
        "        self.part_relation1 = Part_Relation(128)\n",
        "        self.part_relation2 = Part_Relation(256)\n",
        "        self.part_relation3 = Part_Relation(512)\n",
        "\n",
        "        self.gender_encoder = nn.Linear(1, gender_encode_length)\n",
        "        self.gender_bn = nn.BatchNorm1d(gender_encode_length)\n",
        "\n",
        "        self.fc0 = nn.Linear(out_channels + gender_encode_length, 512)\n",
        "        self.bn0 = nn.BatchNorm1d(512)\n",
        "\n",
        "        self.fc1 = nn.Linear(512, 256)\n",
        "        self.bn1 = nn.BatchNorm1d(256)\n",
        "\n",
        "        self.output = nn.Linear(256, 1)\n",
        "\n",
        "    def forward(self, image, gender):\n",
        "        x = self.part_relation0(self.backbone0(image))\n",
        "        # x  = self.backbone0(image)\n",
        "        x = self.part_relation1(self.backbone1(x))\n",
        "        # x = self.backbone1(x)\n",
        "        x = self.part_relation2(self.backbone2(x))\n",
        "        # x = self.backbone2(x)\n",
        "        x = self.part_relation3(self.backbone3(x))\n",
        "        # x = self.backbone3(x)\n",
        "\n",
        "        x = F.adaptive_avg_pool2d(x, 1)\n",
        "        x = torch.squeeze(x)\n",
        "        x.view(-1, self.out_channels)\n",
        "\n",
        "        gender_encode = self.gender_bn(self.gender_encoder(gender))\n",
        "        gender_encode = F.relu(gender_encode)\n",
        "\n",
        "        x = torch.cat([x,  gender_encode], dim = 1)\n",
        "\n",
        "        x = F.relu(self.bn0(self.fc0(x)))\n",
        "\n",
        "        x = F.relu(self.bn1(self.fc1(x)))\n",
        "\n",
        "        return self.output(x)"
      ],
      "execution_count": 31,
      "outputs": []
    },
    {
      "cell_type": "code",
      "metadata": {
        "id": "-fAgezHYFECo"
      },
      "source": [
        "# class Part_Relation(nn.Module):\n",
        "#   def __init__(self, input_channels, kernel_size = 1):\n",
        "#     super(Part_Relation, self).__init__()\n",
        "#     self.pooling_attention = nn.Sequential(\n",
        "#       nn.Conv2d(input_channels, 1, kernel_size = kernel_size, padding = kernel_size//2),\n",
        "#       nn.Sigmoid()\n",
        "#     )\n",
        "#   def forward(self, x):\n",
        "#     return x + x*self.pooling_attention(x)\n",
        "\n",
        "\n",
        "# class BAA_New(nn.Module):\n",
        "#     def __init__(self, gender_encode_length, backbone, out_channels):\n",
        "#         super(BAA_New, self).__init__()\n",
        "#         self.backbone0 = nn.Sequential(*backbone[0:5])\n",
        "#         self.out_channels = out_channels\n",
        "#         self.backbone1 = backbone[5]\n",
        "#         self.backbone2 = backbone[6]\n",
        "#         self.backbone3 = backbone[7]\n",
        "\n",
        "#         self.part_relation0 = Part_Relation(64, 1)\n",
        "#         self.part_relation1 = Part_Relation(128,1)\n",
        "#         self.part_relation2 = Part_Relation(256, 1)\n",
        "#         self.part_relation3 = Part_Relation(512)\n",
        "\n",
        "#         self.gender_encoder = nn.Linear(1, gender_encode_length)\n",
        "#         self.gender_bn = nn.BatchNorm1d(gender_encode_length)\n",
        "\n",
        "#         self.fc0 = nn.Linear(out_channels + gender_encode_length, 512)\n",
        "#         self.bn0 = nn.BatchNorm1d(512)\n",
        "\n",
        "#         self.fc1 = nn.Linear(512, 256)\n",
        "#         self.bn1 = nn.BatchNorm1d(256)\n",
        "\n",
        "#         self.output = nn.Linear(256, 1)\n",
        "\n",
        "#     def forward(self, image, gender):\n",
        "#         x = self.backbone0(image)\n",
        "#         # x  = self.backbone0(image)\n",
        "#         x = self.backbone1(x)\n",
        "#         # x = self.backbone1(x)\n",
        "#         x = self.backbone2(x)\n",
        "#         x = self.part_relation3(self.backbone3(x))\n",
        "\n",
        "#         x = F.adaptive_avg_pool2d(x, 1)\n",
        "#         x = torch.squeeze(x)\n",
        "#         x.view(-1, self.out_channels)\n",
        "\n",
        "#         gender_encode = self.gender_bn(self.gender_encoder(gender))\n",
        "#         gender_encode = F.relu(gender_encode)\n",
        "\n",
        "#         x = torch.cat([x,  gender_encode], dim = 1)\n",
        "\n",
        "#         x = F.relu(self.bn0(self.fc0(x)))\n",
        "\n",
        "#         x = F.relu(self.bn1(self.fc1(x)))\n",
        "\n",
        "        # return self.output(x)"
      ],
      "execution_count": 32,
      "outputs": []
    },
    {
      "cell_type": "code",
      "metadata": {
        "id": "Y-0L8DnRy5kb"
      },
      "source": [
        "# class BAA_base1(nn.Module):\n",
        "#     def __init__(self, gender_encode_length, backbone, out_channels):\n",
        "#         super(BAA_base1, self).__init__()\n",
        "#         self.backbone = backbone\n",
        "        \n",
        "#         self.gender_encoder = nn.Linear(1, gender_encode_length)\n",
        "#         self.gender_bn = nn.BatchNorm1d(gender_encode_length)\n",
        "\n",
        "#         self.fc0 = nn.Linear(out_channels + gender_encode_length, 512)\n",
        "#         self.bn0 = nn.BatchNorm1d(512)\n",
        "\n",
        "#         self.dropout = nn.Dropout(p = 0.2)\n",
        "\n",
        "#         self.fc1 = nn.Linear(512, 256)\n",
        "#         self.bn1 = nn.BatchNorm1d(256)\n",
        "\n",
        "#         self.fc2 = nn.Linear(256, 128)\n",
        "#         self.bn2 = nn.BatchNorm1d(128)\n",
        "\n",
        "#         self.output = nn.Linear(128, 1)\n",
        "\n",
        "#     def forward(self, image, gender):\n",
        "#         image_encode = F.adaptive_avg_pool2d(self.backbone(image), 1)\n",
        "#         image_encode = torch.squeeze(image_encode)\n",
        "\n",
        "#         gender_encode = self.gender_bn(self.gender_encoder(gender))\n",
        "#         gender_encode = F.relu(gender_encode)\n",
        "\n",
        "#         x = torch.cat([image_encode,  gender_encode], dim = 1)\n",
        "\n",
        "#         x = F.relu(self.bn0(self.fc0(x)))\n",
        "\n",
        "#         x = F.relu(self.bn1(self.fc1(x)))\n",
        "\n",
        "#         x = F.relu(self.bn2(self.fc2(x)))\n",
        "\n",
        "#         # x = self.dropout(x)\n",
        "\n",
        "#         return self.output(x)\n"
      ],
      "execution_count": 33,
      "outputs": []
    },
    {
      "cell_type": "code",
      "metadata": {
        "id": "inXABwAsyBol"
      },
      "source": [
        "# model = BAA_base1(32, *get_My_se_resnet152())\n",
        "# model.load_state_dict(torch.load('/content/drive/My Drive/trained_net/senet152_fc_512_256_128/best_senet152_fc_512_256_128.bin'))\n",
        "# model = list(model.children())[0]"
      ],
      "execution_count": 34,
      "outputs": []
    },
    {
      "cell_type": "code",
      "metadata": {
        "id": "LgO5b2hk4TSL"
      },
      "source": [
        "# class BAA_base(nn.Module):\n",
        "#     def __init__(self, gender_encode_length):\n",
        "#         super(BAA_base, self).__init__()\n",
        "#         self.backbone, out_channels = model, 2048\n",
        "#         self.conv_pooling = nn.Conv1d(2048, 1024, kernel_size = 2)\n",
        "        \n",
        "#         self.gender_encoder = nn.Linear(1, gender_encode_length)\n",
        "#         self.gender_bn = nn.BatchNorm1d(gender_encode_length)\n",
        "\n",
        "#         self.fc0 = nn.Linear(1024 + gender_encode_length, 512)\n",
        "#         self.bn0 = nn.BatchNorm1d(512)\n",
        "\n",
        "#         self.dropout = nn.Dropout(p = 0.2)\n",
        "\n",
        "#         self.fc1 = nn.Linear(512, 256)\n",
        "#         self.bn1 = nn.BatchNorm1d(256)\n",
        "\n",
        "#         self.fc2 = nn.Linear(256, 128)\n",
        "#         self.bn2 = nn.BatchNorm1d(128)\n",
        "\n",
        "#         self.output = nn.Linear(128, 1)\n",
        "\n",
        "#     def forward(self, image, gender):\n",
        "#         image_encode = self.backbone(image)\n",
        "        \n",
        "#         image_encode = torch.squeeze(image_encode)\n",
        "#         image_encode = self.conv_pooling(image_encode)\n",
        "#         image_encode = torch.squeeze(image_encode)\n",
        "\n",
        "#         gender_encode = self.gender_bn(self.gender_encoder(gender))\n",
        "#         gender_encode = F.relu(gender_encode)\n",
        "\n",
        "#         x = torch.cat([image_encode,  gender_encode], dim = 1)\n",
        "\n",
        "#         x = F.relu(self.bn0(self.fc0(x)))\n",
        "\n",
        "#         x = F.relu(self.bn1(self.fc1(x)))\n",
        "\n",
        "#         x = F.relu(self.bn2(self.fc2(x)))\n",
        "\n",
        "#         # x = self.dropout(x)\n",
        "\n",
        "#         return self.output(x)\n",
        "# BAA_base(32)"
      ],
      "execution_count": 35,
      "outputs": []
    },
    {
      "cell_type": "code",
      "metadata": {
        "id": "s-ZAzULWjFDa"
      },
      "source": [
        "# model = BAA_base(32)\n",
        "# model.load_state_dict(torch.load('/content/drive/My Drive/trained_net/senet152_fc_512_256_128/best_senet152_fc_512_256_128.bin'))\n",
        "# model = list(model.children())[0]\n",
        "# model[4]"
      ],
      "execution_count": 36,
      "outputs": []
    },
    {
      "cell_type": "code",
      "metadata": {
        "id": "8gaJzKE0SV4-"
      },
      "source": [
        "# from copy import deepcopy\n",
        "# class BAA_New(nn.Module):\n",
        "#   def __init__(self, model):\n",
        "#     super(BAA_New, self).__init__()\n",
        "\n",
        "#     self.encoder = nn.Sequential(*model[:-1])\n",
        "\n",
        "#     self.male = deepcopy(model[-1])\n",
        "#     self.female = deepcopy(model[-1])\n",
        "\n",
        "#     self.fc0 = nn.Linear(2048, 1024)\n",
        "#     self.bn0 = nn.BatchNorm1d(1024)\n",
        "\n",
        "#     # self.fc1 = nn.Linear(1024, 1024)\n",
        "#     # self.bn1 = nn.BatchNorm1d(1024)\n",
        "\n",
        "#     self.output = nn.Linear(1024, 1)\n",
        "\n",
        "#   def forward(self, image, gender):\n",
        "#     x = self.encoder(image)\n",
        "#     gender = gender.view(-1 ,1, 1, 1)\n",
        "#     x = self.female(x)*gender + self.male(x)*(1 - gender)\n",
        "#     x = F.adaptive_avg_pool2d(x, 1)\n",
        "#     x = torch.squeeze(x)\n",
        "#     x = F.relu(self.bn0(self.fc0(x)))\n",
        "#     # x = F.relu(self.bn1(self.fc1(x)))\n",
        "#     return self.output(x)\n",
        "\n",
        "\n",
        "# BAA_New(model)"
      ],
      "execution_count": 37,
      "outputs": []
    },
    {
      "cell_type": "code",
      "metadata": {
        "id": "SQw41I9Gno0I"
      },
      "source": [
        "# from copy import deepcopy\n",
        "# class BAA_New(nn.Module):\n",
        "#   def __init__(self, model):\n",
        "#     super(BAA_New, self).__init__()\n",
        "\n",
        "#     self.encoder = nn.Sequential(*model)\n",
        "\n",
        "\n",
        "#     self.fc0 = nn.Linear(2048, 1024)\n",
        "#     self.bn0 = nn.BatchNorm1d(1024)\n",
        "\n",
        "#     self.fc1 = nn.Linear(1024, 1024)\n",
        "#     self.bn1 = nn.BatchNorm1d(1024)\n",
        "\n",
        "#     self.output = nn.Linear(1024, 1)\n",
        "\n",
        "#   def forward(self, image, gender):\n",
        "#     x = self.encoder(image)\n",
        "    \n",
        "#     x = F.adaptive_avg_pool2d(x, 1)\n",
        "#     x = F.relu(self.bn0(self.fc0(x)))\n",
        "#     x = F.relu(self.bn1(self.fc1(x)))\n",
        "\n",
        "#     return self.output(x)\n",
        "\n",
        "\n",
        "# BAA_New(model)"
      ],
      "execution_count": 38,
      "outputs": []
    },
    {
      "cell_type": "code",
      "metadata": {
        "id": "l77tmD4anLxU"
      },
      "source": [
        "# class BAA_base(nn.Module):\n",
        "#     def __init__(self, gender_encode_length):\n",
        "#         super(BAA_base, self).__init__()\n",
        "#         self.backbone, out_channels = get_My_se_resnet152()\n",
        "        \n",
        "        \n",
        "#         self.gender_encoder = nn.Linear(1, gender_encode_length)\n",
        "#         self.gender_bn = nn.BatchNorm1d(gender_encode_length)\n",
        "\n",
        "#         self.fc_male = nn.Linear(out_channels, gender_encode_length)\n",
        "#         self.bn_male = nn.BatchNorm1d(gender_encode_length)\n",
        "\n",
        "#         self.fc_female = nn.Linear(out_channels, gender_encode_length)\n",
        "#         self.bn_female = nn.BatchNorm1d(gender_encode_length)\n",
        "\n",
        "#         self.dropout = nn.Dropout()\n",
        "\n",
        "#         self.fc0 = nn.Linear(out_channels + gender_encode_length, 1024)\n",
        "#         self.bn0 = nn.BatchNorm1d(1024)\n",
        "\n",
        "#         self.fc1 = nn.Linear(1024, 1024)\n",
        "#         self.bn1 = nn.BatchNorm1d(1024)\n",
        "#         self.output = nn.Linear(1024, 1)\n",
        "\n",
        "#     def forward(self, image, gender):\n",
        "#         image_encode = F.adaptive_avg_pool2d(self.backbone(image), 1)\n",
        "#         image_encode = torch.squeeze(image_encode)\n",
        "\n",
        "#         male = F.relu(self.bn_male(self.fc_male(image_encode)))\n",
        "#         female = F.relu(self.bn_female(self.fc_female(image_encode)))\n",
        "\n",
        "#         g = gender*male + (1 - gender)*female\n",
        "\n",
        "#         x = torch.cat([g, image_encode], dim = 1)\n",
        "\n",
        "#         x = F.relu(self.bn0(self.fc0(x)))\n",
        "\n",
        "#         x = F.relu(self.bn1(self.fc1(x)))\n",
        "\n",
        "#         # x = self.dropout(x)\n",
        "\n",
        "#         return self.output(x)\n",
        "# BAA_base(32)"
      ],
      "execution_count": 39,
      "outputs": []
    },
    {
      "cell_type": "code",
      "metadata": {
        "id": "nrSkhLpm_i7O"
      },
      "source": [
        "# def train_fn(net, train_loader, loss_fn, epoch, optimizer, device):\n",
        "#     '''\n",
        "#     checkpoint is a dict\n",
        "#     '''\n",
        "#     global total_size \n",
        "#     global training_loss \n",
        "\n",
        "#     batch_accumulator = 2\n",
        "#     backprop_flag = False\n",
        "#     net.train()\n",
        "#     if xm.is_master_ordinal():\n",
        "#         train_pbar = tqdm(train_loader)\n",
        "#         train_pbar.desc = f'Epoch {epoch + 1}'\n",
        "#     else:\n",
        "#         train_pbar = train_loader\n",
        "\n",
        "#     optimizer.zero_grad()\n",
        "#     for batch_idx, data in enumerate(train_pbar):\n",
        "#         # #put data to GPU\n",
        "#         backprop_flag = False\n",
        "#         size = len(data[1])\n",
        "        \n",
        "#         image, gender = data[0]\n",
        "#         image, gender= image.to(device), gender.to(device)\n",
        "\n",
        "#         label = data[1].to(device)\n",
        "\n",
        "#         batch_size = len(data[1])\n",
        "#         label = data[1].to(device)\n",
        "        \n",
        "#         #forward\n",
        "#         y_pred = net(image, gender)\n",
        "#         y_pred = y_pred.squeeze()\n",
        "\n",
        "#         # print(y_pred, label)\n",
        "#         loss = loss_fn(y_pred, label)\n",
        "#         #backward,calculate gradients\n",
        "#         loss.backward()\n",
        "\n",
        "#         if batch_idx%batch_accumulator == 1:\n",
        "#             backprop_flag = True\n",
        "            \n",
        "#             #backward,update parameter\n",
        "#             xm.optimizer_step(optimizer)\n",
        "#             # zero the parameter gradients\n",
        "#             optimizer.zero_grad()\n",
        "            \n",
        "#         else:\n",
        "#             xm.rendezvous('123')\n",
        "\n",
        "#         #the learning rate should be update after optimizer's update \n",
        "#         #change the learning rate, because using One cycle pollicy,the learning rate should be update per mini-batch\n",
        "#         # scheduler.step()\n",
        "\n",
        "#         batch_loss = loss.item()\n",
        "\n",
        "#         training_loss += batch_loss\n",
        "#         total_size += batch_size\n",
        "#         if xm.is_master_ordinal():\n",
        "#             train_pbar.set_postfix({'loss': batch_loss/batch_size})\n",
        "#     else:\n",
        "#         if backprop_flag == False:\n",
        "#             #backward,update parameter\n",
        "#             xm.optimizer_step(optimizer)\n",
        "#             # zero the parameter gradients\n",
        "#             optimizer.zero_grad()\n",
        "\n",
        "\n",
        "#     return training_loss/total_size "
      ],
      "execution_count": 40,
      "outputs": []
    },
    {
      "cell_type": "code",
      "metadata": {
        "id": "NNMQTCcURnKu"
      },
      "source": [
        "def train_fn(net, train_loader, loss_fn, epoch, optimizer, device):\n",
        "    '''\n",
        "    checkpoint is a dict\n",
        "    '''\n",
        "    global total_size \n",
        "    global training_loss \n",
        "\n",
        "    net.train()\n",
        "    if xm.is_master_ordinal():\n",
        "        train_pbar = tqdm(train_loader)\n",
        "        train_pbar.desc = f'Epoch {epoch + 1}'\n",
        "    else:\n",
        "        train_pbar = train_loader\n",
        "    for batch_idx, data in enumerate(train_pbar):\n",
        "        # #put data to GPU\n",
        "        size = len(data[1])\n",
        "        \n",
        "        image, gender = data[0]\n",
        "        image, gender= image.to(device), gender.to(device)\n",
        "\n",
        "        label = data[1].to(device)\n",
        "\n",
        "        batch_size = len(data[1])\n",
        "        label = data[1].to(device)\n",
        "        \n",
        "        # zero the parameter gradients\n",
        "        optimizer.zero_grad()\n",
        "        #forward\n",
        "        y_pred = net(image, gender)\n",
        "        y_pred = y_pred.squeeze()\n",
        "\n",
        "        # print(y_pred, label)\n",
        "        loss = loss_fn(y_pred, label)\n",
        "        #backward,calculate gradients\n",
        "        loss.backward()\n",
        "        #backward,update parameter\n",
        "        xm.optimizer_step(optimizer)\n",
        "\n",
        "        #the learning rate should be update after optimizer's update \n",
        "        #change the learning rate, because using One cycle pollicy,the learning rate should be update per mini-batch\n",
        "        # scheduler.step()\n",
        "\n",
        "        batch_loss = loss.item()\n",
        "\n",
        "        training_loss += batch_loss\n",
        "        total_size += batch_size\n",
        "        if xm.is_master_ordinal():\n",
        "            train_pbar.set_postfix({'loss': batch_loss/batch_size})\n",
        "        # print('loss:', batch_loss/batch_size)\n",
        "        # print(f'xla:{xm.get_ordinal()}, batch is{batch_idx}, loss is {mse_loss/total_size}, {size}')\n",
        "    return training_loss/total_size "
      ],
      "execution_count": 41,
      "outputs": []
    },
    {
      "cell_type": "code",
      "metadata": {
        "id": "m5M8QF3ahu9K"
      },
      "source": [
        "def evaluate_fn(net, val_loader, device):\n",
        "    net.train(False)\n",
        "    \n",
        "    global mae_loss \n",
        "    global val_total_size \n",
        "    with torch.no_grad():\n",
        "        for batch_idx, data in enumerate(val_loader):\n",
        "            val_total_size += len(data[1])\n",
        "\n",
        "            image, gender = data[0]\n",
        "            image, gender= image.to(device), gender.to(device)\n",
        "\n",
        "            label = data[1].to(device)\n",
        "\n",
        "            y_pred = net(image, gender)*boneage_div+boneage_mean\n",
        "            # y_pred = net(image, gender)\n",
        "            y_pred = y_pred.squeeze()\n",
        "\n",
        "            batch_loss = F.l1_loss(y_pred, label, reduction='sum').item()\n",
        "            # print(batch_loss/len(data[1]))\n",
        "            mae_loss += batch_loss\n",
        "    return mae_loss\n",
        "\n",
        "def test_fn(net, test_loader, device):\n",
        "    net.train(False)\n",
        "    \n",
        "    global test_mae_loss \n",
        "    global test_total_size \n",
        "    with torch.no_grad():\n",
        "        for batch_idx, data in enumerate(test_loader):\n",
        "            test_total_size += len(data[1])\n",
        "\n",
        "            image, gender = data[0]\n",
        "            image, gender= image.to(device), gender.to(device)\n",
        "\n",
        "            label = data[1].to(device)\n",
        "\n",
        "            y_pred = net(image, gender)*boneage_div+boneage_mean\n",
        "            # y_pred = net(image, gender)\n",
        "            y_pred = y_pred.squeeze()\n",
        "\n",
        "            batch_loss = F.l1_loss(y_pred, label, reduction='sum').item()\n",
        "            # print(batch_loss/len(data[1]))\n",
        "            test_mae_loss += batch_loss\n",
        "    return mae_loss"
      ],
      "execution_count": 42,
      "outputs": []
    },
    {
      "cell_type": "code",
      "metadata": {
        "id": "obFL4BVuhLpw"
      },
      "source": [
        "def reduce_fn(vals):\n",
        "    return sum(vals)"
      ],
      "execution_count": 43,
      "outputs": []
    },
    {
      "cell_type": "code",
      "metadata": {
        "id": "3t81bdBGDPRB"
      },
      "source": [
        "import torchvision\n",
        "from torchvision import datasets\n",
        "import torchvision.transforms as transforms\n",
        "import torch_xla.distributed.parallel_loader as pl\n",
        "import time\n",
        "\n",
        "def map_fn(index, flags):\n",
        "\n",
        "  ## Setup\n",
        "  root = '/content/drive/My Drive/BAA'\n",
        "  model_name = 'msa34' \n",
        "  path = f'{root}/{model_name}'\n",
        "\n",
        "  if xm.is_master_ordinal():\n",
        "    if not os.path.exists(path):\n",
        "        os.mkdir(path)\n",
        "        \n",
        "  # Sets a common random seed - both for initialization and ensuring graph is the same\n",
        "  seed_everything(seed=flags['seed'])\n",
        "\n",
        "  # Acquires the (unique) Cloud TPU core corresponding to this process's index\n",
        "  device = xm.xla_device()\n",
        "\n",
        "\n",
        "#   mymodel = BAA_base(32)\n",
        "  mymodel = BAA_New(32, *get_My_resnet34())\n",
        "#   mymodel.load_state_dict(torch.load('/content/drive/My Drive/BAA/resnet50_pr_2/best_resnet50_pr_2.bin'))\n",
        "  mymodel = mymodel.to(device)\n",
        "  \n",
        "  # Creates the (distributed) train sampler, which let this process only access\n",
        "  # its portion of the training dataset.\n",
        "  train_sampler = torch.utils.data.distributed.DistributedSampler(\n",
        "    train_set,\n",
        "    num_replicas=xm.xrt_world_size(),\n",
        "    rank=xm.get_ordinal(),\n",
        "    shuffle=True)\n",
        "  \n",
        "  val_sampler = torch.utils.data.distributed.DistributedSampler(\n",
        "    val_set,\n",
        "    num_replicas=xm.xrt_world_size(),\n",
        "    rank=xm.get_ordinal(),\n",
        "    shuffle=False)\n",
        "  \n",
        "  test_sampler = torch.utils.data.distributed.DistributedSampler(\n",
        "    test_set,\n",
        "    num_replicas=xm.xrt_world_size(),\n",
        "    rank=xm.get_ordinal(),\n",
        "    shuffle=False)\n",
        "  \n",
        "  # Creates dataloaders, which load data in batches\n",
        "  # Note: test loader is not shuffled or sampled\n",
        "  train_loader = torch.utils.data.DataLoader(\n",
        "      train_set,\n",
        "      batch_size=flags['batch_size'],\n",
        "      sampler=train_sampler,\n",
        "      num_workers=flags['num_workers'],\n",
        "      drop_last=True)\n",
        "\n",
        "  val_loader = torch.utils.data.DataLoader(\n",
        "      val_set,\n",
        "      batch_size=flags['batch_size'],\n",
        "      sampler=val_sampler,\n",
        "      shuffle=False,\n",
        "      num_workers=flags['num_workers'])\n",
        "  \n",
        "  test_loader = torch.utils.data.DataLoader(\n",
        "      test_set,\n",
        "      batch_size=flags['batch_size'],\n",
        "      sampler=test_sampler,\n",
        "      shuffle=False,\n",
        "      num_workers=flags['num_workers'])  \n",
        "\n",
        "  ## Network, optimizer, and loss function creation\n",
        "\n",
        "  # Creates AlexNet for 10 classes\n",
        "  # Note: each process has its own identical copy of the model\n",
        "  #  Even though each model is created independently, they're also\n",
        "  #  created in the same way.\n",
        "  net = mymodel.train()\n",
        "\n",
        "  global best_loss \n",
        "  best_loss = float('inf')\n",
        "#   loss_fn =  nn.MSELoss(reduction = 'sum')\n",
        "  loss_fn = nn.L1Loss(reduction = 'sum')\n",
        "  lr = flags['lr']\n",
        "\n",
        "  wd = 0\n",
        "    \n",
        "  optimizer = torch.optim.Adam(mymodel.parameters(), lr=lr, weight_decay=wd)\n",
        "#   optimizer = torch.optim.SGD(net.parameters(), lr=lr, momentum=0.9, weight_decay = wd)\n",
        "  scheduler = StepLR(optimizer, step_size=10, gamma=0.5)\n",
        "\n",
        "  ## Trains\n",
        "  train_start = time.time()\n",
        "  for epoch in range(flags['num_epochs']):\n",
        "    global training_loss \n",
        "    training_loss = torch.tensor([0], dtype = torch.float32)\n",
        "    global total_size \n",
        "    total_size = torch.tensor([0], dtype = torch.float32)\n",
        "\n",
        "    global mae_loss \n",
        "    mae_loss = torch.tensor([0], dtype = torch.float32)\n",
        "    global val_total_size \n",
        "    val_total_size = torch.tensor([0], dtype = torch.float32)\n",
        "\n",
        "    global test_mae_loss \n",
        "    test_mae_loss = torch.tensor([0], dtype = torch.float32)\n",
        "    global test_total_size \n",
        "    test_total_size = torch.tensor([0], dtype = torch.float32)\n",
        "    # xm.rendezvous(\"initialization\")\n",
        "\n",
        "    start_time = time.time()\n",
        "    para_train_loader = pl.ParallelLoader(train_loader, [device]).per_device_loader(device)\n",
        "    train_fn(net, para_train_loader, loss_fn, epoch, optimizer, device)\n",
        "    \n",
        "    ## Evaluation\n",
        "    # Sets net to eval and no grad context\n",
        "    para_val_loader = pl.ParallelLoader(val_loader, [device]).per_device_loader(device)\n",
        "    evaluate_fn(net, para_val_loader, device)\n",
        "\n",
        "    para_test_loader = pl.ParallelLoader(test_loader, [device]).per_device_loader(device)\n",
        "    test_fn(net, para_test_loader, device)\n",
        "\n",
        "    scheduler.step()\n",
        "    \n",
        "    xm.save(net.state_dict(), '/'.join([path, f'{model_name}.bin']))  \n",
        "    training_loss = xm.mesh_reduce('training_loss',training_loss,reduce_fn)\n",
        "    total_size = xm.mesh_reduce('total_size_reduce',total_size,reduce_fn)\n",
        "    mae_loss = xm.mesh_reduce('mae_loss_reduce',mae_loss,reduce_fn)\n",
        "    val_total_size = xm.mesh_reduce('val_total_size_reduce',val_total_size,reduce_fn)\n",
        "    test_mae_loss = xm.mesh_reduce('test_mae_loss_reduce',test_mae_loss,reduce_fn)\n",
        "    test_total_size = xm.mesh_reduce('test_total_size_reduce',test_total_size,reduce_fn)\n",
        "\n",
        "    if xm.is_master_ordinal():\n",
        "        print(test_total_size)\n",
        "        train_loss, val_mae, test_mae = training_loss/total_size, mae_loss/val_total_size, test_mae_loss/test_total_size\n",
        "        print(f'training loss is {train_loss}, val loss is {val_mae}, test loss is {test_mae}, time : {time.time() - start_time}, lr:{optimizer.param_groups[0][\"lr\"]}')\n",
        "\n",
        "\n",
        "    if xm.is_master_ordinal() and best_loss >= test_mae:\n",
        "        best_loss = test_mae\n",
        "        shutil.copy(f'{path}/{model_name}.bin', \\\n",
        "                    f'{path}/best_{model_name}.bin')"
      ],
      "execution_count": 44,
      "outputs": []
    },
    {
      "cell_type": "code",
      "metadata": {
        "id": "mMOUJmb1mnag",
        "outputId": "a5c63588-74f6-40ae-8d92-e2e57d7ffae8",
        "colab": {
          "base_uri": "https://localhost:8080/"
        }
      },
      "source": [
        "flags = {}\n",
        "flags['lr'] = 5e-4\n",
        "flags['batch_size'] = 32\n",
        "flags['num_workers'] = 4\n",
        "flags['num_epochs'] = 100\n",
        "flags['seed'] = 1234\n",
        "\n",
        "torch.set_default_tensor_type('torch.FloatTensor')\n",
        "xmp.spawn(map_fn, args=(flags,), nprocs=8, start_method='fork')"
      ],
      "execution_count": 45,
      "outputs": [
        {
          "output_type": "stream",
          "text": [
            "Epoch 1: 100%|██████████| 49/49 [07:39<00:00,  9.38s/it, loss=0.24]\n"
          ],
          "name": "stderr"
        },
        {
          "output_type": "stream",
          "text": [
            "tensor([200.])\n",
            "training loss is tensor([0.3810]), val loss is tensor([11.8158]), test loss is tensor([8.6855]), time : 574.869416475296, lr:0.0005\n"
          ],
          "name": "stdout"
        },
        {
          "output_type": "stream",
          "text": [
            "Epoch 2: 100%|██████████| 49/49 [05:31<00:00,  6.77s/it, loss=0.272]\n"
          ],
          "name": "stderr"
        },
        {
          "output_type": "stream",
          "text": [
            "tensor([200.])\n",
            "training loss is tensor([0.2652]), val loss is tensor([11.3471]), test loss is tensor([8.9927]), time : 396.16606163978577, lr:0.0005\n"
          ],
          "name": "stdout"
        },
        {
          "output_type": "stream",
          "text": [
            "Epoch 3: 100%|██████████| 49/49 [05:51<00:00,  7.17s/it, loss=0.178]\n"
          ],
          "name": "stderr"
        },
        {
          "output_type": "stream",
          "text": [
            "tensor([200.])\n",
            "training loss is tensor([0.2514]), val loss is tensor([9.6850]), test loss is tensor([7.6258]), time : 413.3337061405182, lr:0.0005\n"
          ],
          "name": "stdout"
        },
        {
          "output_type": "stream",
          "text": [
            "Epoch 4: 100%|██████████| 49/49 [05:34<00:00,  6.83s/it, loss=0.192]\n"
          ],
          "name": "stderr"
        },
        {
          "output_type": "stream",
          "text": [
            "tensor([200.])\n",
            "training loss is tensor([0.2333]), val loss is tensor([10.1135]), test loss is tensor([6.9377]), time : 395.90597319602966, lr:0.0005\n"
          ],
          "name": "stdout"
        },
        {
          "output_type": "stream",
          "text": [
            "Epoch 5: 100%|██████████| 49/49 [05:33<00:00,  6.80s/it, loss=0.182]\n"
          ],
          "name": "stderr"
        },
        {
          "output_type": "stream",
          "text": [
            "tensor([200.])\n",
            "training loss is tensor([0.2280]), val loss is tensor([8.5921]), test loss is tensor([7.3533]), time : 395.98440194129944, lr:0.0005\n"
          ],
          "name": "stdout"
        },
        {
          "output_type": "stream",
          "text": [
            "Epoch 6: 100%|██████████| 49/49 [05:51<00:00,  7.18s/it, loss=0.176]\n"
          ],
          "name": "stderr"
        },
        {
          "output_type": "stream",
          "text": [
            "tensor([200.])\n",
            "training loss is tensor([0.2145]), val loss is tensor([8.7300]), test loss is tensor([8.4887]), time : 414.64449191093445, lr:0.0005\n"
          ],
          "name": "stdout"
        },
        {
          "output_type": "stream",
          "text": [
            "Epoch 7: 100%|██████████| 49/49 [05:51<00:00,  7.18s/it, loss=0.204]\n"
          ],
          "name": "stderr"
        },
        {
          "output_type": "stream",
          "text": [
            "tensor([200.])\n",
            "training loss is tensor([0.2097]), val loss is tensor([10.9149]), test loss is tensor([8.4528]), time : 414.12093925476074, lr:0.0005\n"
          ],
          "name": "stdout"
        },
        {
          "output_type": "stream",
          "text": [
            "Epoch 8: 100%|██████████| 49/49 [05:50<00:00,  7.15s/it, loss=0.196]\n"
          ],
          "name": "stderr"
        },
        {
          "output_type": "stream",
          "text": [
            "tensor([200.])\n",
            "training loss is tensor([0.1976]), val loss is tensor([10.0741]), test loss is tensor([8.4328]), time : 413.495178937912, lr:0.0005\n"
          ],
          "name": "stdout"
        },
        {
          "output_type": "stream",
          "text": [
            "Epoch 9: 100%|██████████| 49/49 [05:50<00:00,  7.15s/it, loss=0.173]\n"
          ],
          "name": "stderr"
        },
        {
          "output_type": "stream",
          "text": [
            "tensor([200.])\n",
            "training loss is tensor([0.1980]), val loss is tensor([8.5235]), test loss is tensor([6.9309]), time : 412.0789692401886, lr:0.0005\n"
          ],
          "name": "stdout"
        },
        {
          "output_type": "stream",
          "text": [
            "Epoch 10: 100%|██████████| 49/49 [05:28<00:00,  6.70s/it, loss=0.202]\n"
          ],
          "name": "stderr"
        },
        {
          "output_type": "stream",
          "text": [
            "tensor([200.])\n",
            "training loss is tensor([0.1947]), val loss is tensor([7.7863]), test loss is tensor([6.3375]), time : 391.86457562446594, lr:0.00025\n"
          ],
          "name": "stdout"
        },
        {
          "output_type": "stream",
          "text": [
            "Epoch 11: 100%|██████████| 49/49 [05:28<00:00,  6.71s/it, loss=0.137]\n"
          ],
          "name": "stderr"
        },
        {
          "output_type": "stream",
          "text": [
            "tensor([200.])\n",
            "training loss is tensor([0.1830]), val loss is tensor([6.8958]), test loss is tensor([5.9850]), time : 389.72539710998535, lr:0.00025\n"
          ],
          "name": "stdout"
        },
        {
          "output_type": "stream",
          "text": [
            "Epoch 12: 100%|██████████| 49/49 [05:29<00:00,  6.72s/it, loss=0.165]\n"
          ],
          "name": "stderr"
        },
        {
          "output_type": "stream",
          "text": [
            "tensor([200.])\n",
            "training loss is tensor([0.1790]), val loss is tensor([6.6812]), test loss is tensor([5.3675]), time : 392.3922452926636, lr:0.00025\n"
          ],
          "name": "stdout"
        },
        {
          "output_type": "stream",
          "text": [
            "Epoch 13: 100%|██████████| 49/49 [05:27<00:00,  6.69s/it, loss=0.14]\n"
          ],
          "name": "stderr"
        },
        {
          "output_type": "stream",
          "text": [
            "tensor([200.])\n",
            "training loss is tensor([0.1771]), val loss is tensor([6.6072]), test loss is tensor([5.5278]), time : 391.38139724731445, lr:0.00025\n"
          ],
          "name": "stdout"
        },
        {
          "output_type": "stream",
          "text": [
            "Epoch 14: 100%|██████████| 49/49 [05:51<00:00,  7.17s/it, loss=0.145]\n"
          ],
          "name": "stderr"
        },
        {
          "output_type": "stream",
          "text": [
            "tensor([200.])\n",
            "training loss is tensor([0.1724]), val loss is tensor([6.9146]), test loss is tensor([5.0736]), time : 412.3677089214325, lr:0.00025\n"
          ],
          "name": "stdout"
        },
        {
          "output_type": "stream",
          "text": [
            "Epoch 15: 100%|██████████| 49/49 [05:31<00:00,  6.77s/it, loss=0.16]\n"
          ],
          "name": "stderr"
        },
        {
          "output_type": "stream",
          "text": [
            "tensor([200.])\n",
            "training loss is tensor([0.1695]), val loss is tensor([7.7756]), test loss is tensor([6.3596]), time : 395.2579069137573, lr:0.00025\n"
          ],
          "name": "stdout"
        },
        {
          "output_type": "stream",
          "text": [
            "Epoch 16: 100%|██████████| 49/49 [05:50<00:00,  7.16s/it, loss=0.146]\n"
          ],
          "name": "stderr"
        },
        {
          "output_type": "stream",
          "text": [
            "tensor([200.])\n",
            "training loss is tensor([0.1712]), val loss is tensor([6.5010]), test loss is tensor([5.4409]), time : 412.7740547657013, lr:0.00025\n"
          ],
          "name": "stdout"
        },
        {
          "output_type": "stream",
          "text": [
            "Epoch 17: 100%|██████████| 49/49 [05:51<00:00,  7.16s/it, loss=0.137]\n"
          ],
          "name": "stderr"
        },
        {
          "output_type": "stream",
          "text": [
            "tensor([200.])\n",
            "training loss is tensor([0.1703]), val loss is tensor([7.3143]), test loss is tensor([5.8175]), time : 414.0702016353607, lr:0.00025\n"
          ],
          "name": "stdout"
        },
        {
          "output_type": "stream",
          "text": [
            "Epoch 18: 100%|██████████| 49/49 [05:50<00:00,  7.16s/it, loss=0.122]\n"
          ],
          "name": "stderr"
        },
        {
          "output_type": "stream",
          "text": [
            "tensor([200.])\n",
            "training loss is tensor([0.1715]), val loss is tensor([7.1286]), test loss is tensor([5.2055]), time : 413.5001573562622, lr:0.00025\n"
          ],
          "name": "stdout"
        },
        {
          "output_type": "stream",
          "text": [
            "Epoch 19: 100%|██████████| 49/49 [05:50<00:00,  7.15s/it, loss=0.153]\n"
          ],
          "name": "stderr"
        },
        {
          "output_type": "stream",
          "text": [
            "tensor([200.])\n",
            "training loss is tensor([0.1704]), val loss is tensor([7.7934]), test loss is tensor([6.2751]), time : 411.89405488967896, lr:0.00025\n"
          ],
          "name": "stdout"
        },
        {
          "output_type": "stream",
          "text": [
            "Epoch 20: 100%|██████████| 49/49 [05:50<00:00,  7.14s/it, loss=0.146]\n"
          ],
          "name": "stderr"
        },
        {
          "output_type": "stream",
          "text": [
            "tensor([200.])\n",
            "training loss is tensor([0.1668]), val loss is tensor([7.4013]), test loss is tensor([6.0406]), time : 411.29528975486755, lr:0.000125\n"
          ],
          "name": "stdout"
        },
        {
          "output_type": "stream",
          "text": [
            "Epoch 21: 100%|██████████| 49/49 [05:50<00:00,  7.15s/it, loss=0.161]\n"
          ],
          "name": "stderr"
        },
        {
          "output_type": "stream",
          "text": [
            "tensor([200.])\n",
            "training loss is tensor([0.1607]), val loss is tensor([6.6059]), test loss is tensor([5.3381]), time : 412.6700186729431, lr:0.000125\n"
          ],
          "name": "stdout"
        },
        {
          "output_type": "stream",
          "text": [
            "Epoch 22: 100%|██████████| 49/49 [05:49<00:00,  7.14s/it, loss=0.139]\n"
          ],
          "name": "stderr"
        },
        {
          "output_type": "stream",
          "text": [
            "tensor([200.])\n",
            "training loss is tensor([0.1579]), val loss is tensor([6.4429]), test loss is tensor([5.1243]), time : 411.4524579048157, lr:0.000125\n"
          ],
          "name": "stdout"
        },
        {
          "output_type": "stream",
          "text": [
            "Epoch 23: 100%|██████████| 49/49 [05:50<00:00,  7.16s/it, loss=0.142]\n"
          ],
          "name": "stderr"
        },
        {
          "output_type": "stream",
          "text": [
            "tensor([200.])\n",
            "training loss is tensor([0.1578]), val loss is tensor([6.2830]), test loss is tensor([5.0525]), time : 411.9266119003296, lr:0.000125\n"
          ],
          "name": "stdout"
        },
        {
          "output_type": "stream",
          "text": [
            "Epoch 24: 100%|██████████| 49/49 [05:30<00:00,  6.74s/it, loss=0.152]\n"
          ],
          "name": "stderr"
        },
        {
          "output_type": "stream",
          "text": [
            "tensor([200.])\n",
            "training loss is tensor([0.1548]), val loss is tensor([6.3810]), test loss is tensor([4.8161]), time : 391.5065360069275, lr:0.000125\n"
          ],
          "name": "stdout"
        },
        {
          "output_type": "stream",
          "text": [
            "Epoch 25: 100%|██████████| 49/49 [05:33<00:00,  6.80s/it, loss=0.137]\n"
          ],
          "name": "stderr"
        },
        {
          "output_type": "stream",
          "text": [
            "tensor([200.])\n",
            "training loss is tensor([0.1548]), val loss is tensor([6.3706]), test loss is tensor([5.1727]), time : 395.37936544418335, lr:0.000125\n"
          ],
          "name": "stdout"
        },
        {
          "output_type": "stream",
          "text": [
            "Epoch 26: 100%|██████████| 49/49 [05:51<00:00,  7.17s/it, loss=0.147]\n"
          ],
          "name": "stderr"
        },
        {
          "output_type": "stream",
          "text": [
            "tensor([200.])\n",
            "training loss is tensor([0.1548]), val loss is tensor([6.7044]), test loss is tensor([5.7703]), time : 412.70784068107605, lr:0.000125\n"
          ],
          "name": "stdout"
        },
        {
          "output_type": "stream",
          "text": [
            "Epoch 27: 100%|██████████| 49/49 [05:50<00:00,  7.16s/it, loss=0.147]\n"
          ],
          "name": "stderr"
        },
        {
          "output_type": "stream",
          "text": [
            "tensor([200.])\n",
            "training loss is tensor([0.1568]), val loss is tensor([6.6048]), test loss is tensor([5.8013]), time : 412.88989448547363, lr:0.000125\n"
          ],
          "name": "stdout"
        },
        {
          "output_type": "stream",
          "text": [
            "Epoch 28: 100%|██████████| 49/49 [05:50<00:00,  7.16s/it, loss=0.134]\n"
          ],
          "name": "stderr"
        },
        {
          "output_type": "stream",
          "text": [
            "tensor([200.])\n",
            "training loss is tensor([0.1551]), val loss is tensor([6.5664]), test loss is tensor([4.9896]), time : 413.0043046474457, lr:0.000125\n"
          ],
          "name": "stdout"
        },
        {
          "output_type": "stream",
          "text": [
            "Epoch 29: 100%|██████████| 49/49 [05:50<00:00,  7.16s/it, loss=0.15]\n"
          ],
          "name": "stderr"
        },
        {
          "output_type": "stream",
          "text": [
            "tensor([200.])\n",
            "training loss is tensor([0.1556]), val loss is tensor([6.7231]), test loss is tensor([5.3832]), time : 414.1337251663208, lr:0.000125\n"
          ],
          "name": "stdout"
        },
        {
          "output_type": "stream",
          "text": [
            "Epoch 30: 100%|██████████| 49/49 [05:49<00:00,  7.14s/it, loss=0.129]\n"
          ],
          "name": "stderr"
        },
        {
          "output_type": "stream",
          "text": [
            "tensor([200.])\n",
            "training loss is tensor([0.1537]), val loss is tensor([6.4191]), test loss is tensor([5.2719]), time : 411.42456340789795, lr:6.25e-05\n"
          ],
          "name": "stdout"
        },
        {
          "output_type": "stream",
          "text": [
            "Epoch 31: 100%|██████████| 49/49 [05:52<00:00,  7.18s/it, loss=0.139]\n"
          ],
          "name": "stderr"
        },
        {
          "output_type": "stream",
          "text": [
            "tensor([200.])\n",
            "training loss is tensor([0.1493]), val loss is tensor([6.4311]), test loss is tensor([5.3994]), time : 414.37943053245544, lr:6.25e-05\n"
          ],
          "name": "stdout"
        },
        {
          "output_type": "stream",
          "text": [
            "Epoch 32: 100%|██████████| 49/49 [05:51<00:00,  7.17s/it, loss=0.144]\n"
          ],
          "name": "stderr"
        },
        {
          "output_type": "stream",
          "text": [
            "tensor([200.])\n",
            "training loss is tensor([0.1493]), val loss is tensor([6.3138]), test loss is tensor([4.9356]), time : 411.50464940071106, lr:6.25e-05\n"
          ],
          "name": "stdout"
        },
        {
          "output_type": "stream",
          "text": [
            "Epoch 33: 100%|██████████| 49/49 [05:51<00:00,  7.17s/it, loss=0.156]\n"
          ],
          "name": "stderr"
        },
        {
          "output_type": "stream",
          "text": [
            "tensor([200.])\n",
            "training loss is tensor([0.1478]), val loss is tensor([6.5852]), test loss is tensor([5.6247]), time : 414.0970108509064, lr:6.25e-05\n"
          ],
          "name": "stdout"
        },
        {
          "output_type": "stream",
          "text": [
            "Epoch 34: 100%|██████████| 49/49 [05:51<00:00,  7.16s/it, loss=0.135]\n"
          ],
          "name": "stderr"
        },
        {
          "output_type": "stream",
          "text": [
            "tensor([200.])\n",
            "training loss is tensor([0.1468]), val loss is tensor([6.3722]), test loss is tensor([5.5146]), time : 413.1651465892792, lr:6.25e-05\n"
          ],
          "name": "stdout"
        },
        {
          "output_type": "stream",
          "text": [
            "Epoch 35: 100%|██████████| 49/49 [05:50<00:00,  7.16s/it, loss=0.129]\n"
          ],
          "name": "stderr"
        },
        {
          "output_type": "stream",
          "text": [
            "tensor([200.])\n",
            "training loss is tensor([0.1463]), val loss is tensor([6.4777]), test loss is tensor([5.5149]), time : 413.3020405769348, lr:6.25e-05\n"
          ],
          "name": "stdout"
        },
        {
          "output_type": "stream",
          "text": [
            "Epoch 36: 100%|██████████| 49/49 [05:50<00:00,  7.15s/it, loss=0.148]\n"
          ],
          "name": "stderr"
        },
        {
          "output_type": "stream",
          "text": [
            "tensor([200.])\n",
            "training loss is tensor([0.1467]), val loss is tensor([6.5749]), test loss is tensor([5.4755]), time : 411.7775378227234, lr:6.25e-05\n"
          ],
          "name": "stdout"
        },
        {
          "output_type": "stream",
          "text": [
            "Epoch 37: 100%|██████████| 49/49 [05:51<00:00,  7.17s/it, loss=0.124]\n"
          ],
          "name": "stderr"
        },
        {
          "output_type": "stream",
          "text": [
            "tensor([200.])\n",
            "training loss is tensor([0.1459]), val loss is tensor([6.4199]), test loss is tensor([5.0798]), time : 414.0913276672363, lr:6.25e-05\n"
          ],
          "name": "stdout"
        },
        {
          "output_type": "stream",
          "text": [
            "Epoch 38: 100%|██████████| 49/49 [05:49<00:00,  7.14s/it, loss=0.132]\n"
          ],
          "name": "stderr"
        },
        {
          "output_type": "stream",
          "text": [
            "tensor([200.])\n",
            "training loss is tensor([0.1455]), val loss is tensor([6.4688]), test loss is tensor([5.0834]), time : 412.3456723690033, lr:6.25e-05\n"
          ],
          "name": "stdout"
        },
        {
          "output_type": "stream",
          "text": [
            "Epoch 39: 100%|██████████| 49/49 [05:50<00:00,  7.15s/it, loss=0.133]\n"
          ],
          "name": "stderr"
        },
        {
          "output_type": "stream",
          "text": [
            "tensor([200.])\n",
            "training loss is tensor([0.1454]), val loss is tensor([6.6532]), test loss is tensor([5.2072]), time : 411.9294912815094, lr:6.25e-05\n"
          ],
          "name": "stdout"
        },
        {
          "output_type": "stream",
          "text": [
            "Epoch 40: 100%|██████████| 49/49 [05:50<00:00,  7.16s/it, loss=0.125]\n"
          ],
          "name": "stderr"
        },
        {
          "output_type": "stream",
          "text": [
            "tensor([200.])\n",
            "training loss is tensor([0.1436]), val loss is tensor([6.4485]), test loss is tensor([5.6480]), time : 412.655326128006, lr:3.125e-05\n"
          ],
          "name": "stdout"
        },
        {
          "output_type": "stream",
          "text": [
            "Epoch 41: 100%|██████████| 49/49 [05:50<00:00,  7.16s/it, loss=0.131]\n"
          ],
          "name": "stderr"
        },
        {
          "output_type": "stream",
          "text": [
            "tensor([200.])\n",
            "training loss is tensor([0.1425]), val loss is tensor([6.1242]), test loss is tensor([5.1587]), time : 413.10407972335815, lr:3.125e-05\n"
          ],
          "name": "stdout"
        },
        {
          "output_type": "stream",
          "text": [
            "Epoch 42: 100%|██████████| 49/49 [05:51<00:00,  7.18s/it, loss=0.132]\n"
          ],
          "name": "stderr"
        },
        {
          "output_type": "stream",
          "text": [
            "tensor([200.])\n",
            "training loss is tensor([0.1427]), val loss is tensor([6.1739]), test loss is tensor([4.7734]), time : 414.6008884906769, lr:3.125e-05\n"
          ],
          "name": "stdout"
        },
        {
          "output_type": "stream",
          "text": [
            "Epoch 43: 100%|██████████| 49/49 [05:28<00:00,  6.71s/it, loss=0.134]\n"
          ],
          "name": "stderr"
        },
        {
          "output_type": "stream",
          "text": [
            "tensor([200.])\n",
            "training loss is tensor([0.1417]), val loss is tensor([6.1948]), test loss is tensor([4.7791]), time : 390.71587443351746, lr:3.125e-05\n"
          ],
          "name": "stdout"
        },
        {
          "output_type": "stream",
          "text": [
            "Epoch 44: 100%|██████████| 49/49 [05:52<00:00,  7.19s/it, loss=0.116]\n"
          ],
          "name": "stderr"
        },
        {
          "output_type": "stream",
          "text": [
            "tensor([200.])\n",
            "training loss is tensor([0.1408]), val loss is tensor([6.2036]), test loss is tensor([5.2353]), time : 415.39941787719727, lr:3.125e-05\n"
          ],
          "name": "stdout"
        },
        {
          "output_type": "stream",
          "text": [
            "Epoch 45: 100%|██████████| 49/49 [05:50<00:00,  7.15s/it, loss=0.128]\n"
          ],
          "name": "stderr"
        },
        {
          "output_type": "stream",
          "text": [
            "tensor([200.])\n",
            "training loss is tensor([0.1407]), val loss is tensor([6.1411]), test loss is tensor([4.8360]), time : 411.27524042129517, lr:3.125e-05\n"
          ],
          "name": "stdout"
        },
        {
          "output_type": "stream",
          "text": [
            "Epoch 46: 100%|██████████| 49/49 [05:52<00:00,  7.19s/it, loss=0.125]\n"
          ],
          "name": "stderr"
        },
        {
          "output_type": "stream",
          "text": [
            "tensor([200.])\n",
            "training loss is tensor([0.1392]), val loss is tensor([6.1527]), test loss is tensor([5.1922]), time : 413.46413016319275, lr:3.125e-05\n"
          ],
          "name": "stdout"
        },
        {
          "output_type": "stream",
          "text": [
            "Epoch 47: 100%|██████████| 49/49 [05:51<00:00,  7.16s/it, loss=0.125]\n"
          ],
          "name": "stderr"
        },
        {
          "output_type": "stream",
          "text": [
            "tensor([200.])\n",
            "training loss is tensor([0.1413]), val loss is tensor([6.2304]), test loss is tensor([4.8894]), time : 413.2374939918518, lr:3.125e-05\n"
          ],
          "name": "stdout"
        },
        {
          "output_type": "stream",
          "text": [
            "Epoch 48: 100%|██████████| 49/49 [05:50<00:00,  7.16s/it, loss=0.126]\n"
          ],
          "name": "stderr"
        },
        {
          "output_type": "stream",
          "text": [
            "tensor([200.])\n",
            "training loss is tensor([0.1383]), val loss is tensor([6.2041]), test loss is tensor([5.0712]), time : 413.41062211990356, lr:3.125e-05\n"
          ],
          "name": "stdout"
        },
        {
          "output_type": "stream",
          "text": [
            "Epoch 49: 100%|██████████| 49/49 [05:51<00:00,  7.17s/it, loss=0.121]\n"
          ],
          "name": "stderr"
        },
        {
          "output_type": "stream",
          "text": [
            "tensor([200.])\n",
            "training loss is tensor([0.1390]), val loss is tensor([6.1778]), test loss is tensor([5.1336]), time : 414.11673164367676, lr:3.125e-05\n"
          ],
          "name": "stdout"
        },
        {
          "output_type": "stream",
          "text": [
            "Epoch 50: 100%|██████████| 49/49 [05:50<00:00,  7.16s/it, loss=0.13]\n"
          ],
          "name": "stderr"
        },
        {
          "output_type": "stream",
          "text": [
            "tensor([200.])\n",
            "training loss is tensor([0.1399]), val loss is tensor([6.1857]), test loss is tensor([4.7281]), time : 413.0182728767395, lr:1.5625e-05\n"
          ],
          "name": "stdout"
        },
        {
          "output_type": "stream",
          "text": [
            "Epoch 51: 100%|██████████| 49/49 [05:34<00:00,  6.82s/it, loss=0.129]\n"
          ],
          "name": "stderr"
        },
        {
          "output_type": "stream",
          "text": [
            "tensor([200.])\n",
            "training loss is tensor([0.1387]), val loss is tensor([6.2066]), test loss is tensor([5.2751]), time : 395.9800639152527, lr:1.5625e-05\n"
          ],
          "name": "stdout"
        },
        {
          "output_type": "stream",
          "text": [
            "Epoch 52: 100%|██████████| 49/49 [05:51<00:00,  7.18s/it, loss=0.122]\n"
          ],
          "name": "stderr"
        },
        {
          "output_type": "stream",
          "text": [
            "tensor([200.])\n",
            "training loss is tensor([0.1360]), val loss is tensor([6.1492]), test loss is tensor([4.9818]), time : 413.7427155971527, lr:1.5625e-05\n"
          ],
          "name": "stdout"
        },
        {
          "output_type": "stream",
          "text": [
            "Epoch 53: 100%|██████████| 49/49 [05:50<00:00,  7.16s/it, loss=0.117]\n"
          ],
          "name": "stderr"
        },
        {
          "output_type": "stream",
          "text": [
            "tensor([200.])\n",
            "training loss is tensor([0.1363]), val loss is tensor([6.1386]), test loss is tensor([4.9905]), time : 411.79595971107483, lr:1.5625e-05\n"
          ],
          "name": "stdout"
        },
        {
          "output_type": "stream",
          "text": [
            "Epoch 54: 100%|██████████| 49/49 [05:51<00:00,  7.18s/it, loss=0.133]\n"
          ],
          "name": "stderr"
        },
        {
          "output_type": "stream",
          "text": [
            "tensor([200.])\n",
            "training loss is tensor([0.1363]), val loss is tensor([6.1784]), test loss is tensor([5.0386]), time : 412.7449870109558, lr:1.5625e-05\n"
          ],
          "name": "stdout"
        },
        {
          "output_type": "stream",
          "text": [
            "Epoch 55: 100%|██████████| 49/49 [05:51<00:00,  7.18s/it, loss=0.11]\n"
          ],
          "name": "stderr"
        },
        {
          "output_type": "stream",
          "text": [
            "tensor([200.])\n",
            "training loss is tensor([0.1353]), val loss is tensor([6.1764]), test loss is tensor([5.0760]), time : 413.04130244255066, lr:1.5625e-05\n"
          ],
          "name": "stdout"
        },
        {
          "output_type": "stream",
          "text": [
            "Epoch 56: 100%|██████████| 49/49 [05:51<00:00,  7.17s/it, loss=0.128]\n"
          ],
          "name": "stderr"
        },
        {
          "output_type": "stream",
          "text": [
            "tensor([200.])\n",
            "training loss is tensor([0.1346]), val loss is tensor([6.1493]), test loss is tensor([5.0786]), time : 414.0259244441986, lr:1.5625e-05\n"
          ],
          "name": "stdout"
        },
        {
          "output_type": "stream",
          "text": [
            "Epoch 57: 100%|██████████| 49/49 [05:51<00:00,  7.18s/it, loss=0.12]\n"
          ],
          "name": "stderr"
        },
        {
          "output_type": "stream",
          "text": [
            "tensor([200.])\n",
            "training loss is tensor([0.1360]), val loss is tensor([6.1742]), test loss is tensor([5.0342]), time : 414.5439555644989, lr:1.5625e-05\n"
          ],
          "name": "stdout"
        },
        {
          "output_type": "stream",
          "text": [
            "Epoch 58: 100%|██████████| 49/49 [05:50<00:00,  7.16s/it, loss=0.144]\n"
          ],
          "name": "stderr"
        },
        {
          "output_type": "stream",
          "text": [
            "tensor([200.])\n",
            "training loss is tensor([0.1352]), val loss is tensor([6.1296]), test loss is tensor([5.0897]), time : 413.0235550403595, lr:1.5625e-05\n"
          ],
          "name": "stdout"
        },
        {
          "output_type": "stream",
          "text": [
            "Epoch 59: 100%|██████████| 49/49 [05:50<00:00,  7.15s/it, loss=0.112]\n"
          ],
          "name": "stderr"
        },
        {
          "output_type": "stream",
          "text": [
            "tensor([200.])\n",
            "training loss is tensor([0.1358]), val loss is tensor([6.1591]), test loss is tensor([5.1358]), time : 412.0412414073944, lr:1.5625e-05\n"
          ],
          "name": "stdout"
        },
        {
          "output_type": "stream",
          "text": [
            "Epoch 60: 100%|██████████| 49/49 [05:50<00:00,  7.16s/it, loss=0.133]\n"
          ],
          "name": "stderr"
        },
        {
          "output_type": "stream",
          "text": [
            "tensor([200.])\n",
            "training loss is tensor([0.1340]), val loss is tensor([6.1810]), test loss is tensor([5.0848]), time : 413.14010190963745, lr:7.8125e-06\n"
          ],
          "name": "stdout"
        },
        {
          "output_type": "stream",
          "text": [
            "Epoch 61: 100%|██████████| 49/49 [05:50<00:00,  7.16s/it, loss=0.141]\n"
          ],
          "name": "stderr"
        },
        {
          "output_type": "stream",
          "text": [
            "tensor([200.])\n",
            "training loss is tensor([0.1330]), val loss is tensor([6.1026]), test loss is tensor([5.0048]), time : 414.12085795402527, lr:7.8125e-06\n"
          ],
          "name": "stdout"
        },
        {
          "output_type": "stream",
          "text": [
            "Epoch 62: 100%|██████████| 49/49 [05:51<00:00,  7.17s/it, loss=0.117]\n"
          ],
          "name": "stderr"
        },
        {
          "output_type": "stream",
          "text": [
            "tensor([200.])\n",
            "training loss is tensor([0.1332]), val loss is tensor([6.1166]), test loss is tensor([4.8512]), time : 415.89820861816406, lr:7.8125e-06\n"
          ],
          "name": "stdout"
        },
        {
          "output_type": "stream",
          "text": [
            "Epoch 63: 100%|██████████| 49/49 [05:51<00:00,  7.18s/it, loss=0.119]\n"
          ],
          "name": "stderr"
        },
        {
          "output_type": "stream",
          "text": [
            "tensor([200.])\n",
            "training loss is tensor([0.1319]), val loss is tensor([6.1407]), test loss is tensor([4.9950]), time : 414.5193521976471, lr:7.8125e-06\n"
          ],
          "name": "stdout"
        },
        {
          "output_type": "stream",
          "text": [
            "Epoch 64: 100%|██████████| 49/49 [05:49<00:00,  7.14s/it, loss=0.112]\n"
          ],
          "name": "stderr"
        },
        {
          "output_type": "stream",
          "text": [
            "tensor([200.])\n",
            "training loss is tensor([0.1339]), val loss is tensor([6.0974]), test loss is tensor([4.8857]), time : 413.61982131004333, lr:7.8125e-06\n"
          ],
          "name": "stdout"
        },
        {
          "output_type": "stream",
          "text": [
            "Epoch 65: 100%|██████████| 49/49 [05:50<00:00,  7.15s/it, loss=0.131]\n"
          ],
          "name": "stderr"
        },
        {
          "output_type": "stream",
          "text": [
            "tensor([200.])\n",
            "training loss is tensor([0.1317]), val loss is tensor([6.1638]), test loss is tensor([4.9926]), time : 412.4505455493927, lr:7.8125e-06\n"
          ],
          "name": "stdout"
        },
        {
          "output_type": "stream",
          "text": [
            "Epoch 66: 100%|██████████| 49/49 [05:50<00:00,  7.14s/it, loss=0.116]\n"
          ],
          "name": "stderr"
        },
        {
          "output_type": "stream",
          "text": [
            "tensor([200.])\n",
            "training loss is tensor([0.1332]), val loss is tensor([6.1218]), test loss is tensor([4.9143]), time : 413.0911798477173, lr:7.8125e-06\n"
          ],
          "name": "stdout"
        },
        {
          "output_type": "stream",
          "text": [
            "Epoch 67: 100%|██████████| 49/49 [05:51<00:00,  7.17s/it, loss=0.125]\n"
          ],
          "name": "stderr"
        },
        {
          "output_type": "stream",
          "text": [
            "tensor([200.])\n",
            "training loss is tensor([0.1311]), val loss is tensor([6.1263]), test loss is tensor([4.9535]), time : 413.66946482658386, lr:7.8125e-06\n"
          ],
          "name": "stdout"
        },
        {
          "output_type": "stream",
          "text": [
            "Epoch 68: 100%|██████████| 49/49 [05:51<00:00,  7.18s/it, loss=0.126]\n"
          ],
          "name": "stderr"
        },
        {
          "output_type": "stream",
          "text": [
            "tensor([200.])\n",
            "training loss is tensor([0.1327]), val loss is tensor([6.1251]), test loss is tensor([4.9469]), time : 415.2355306148529, lr:7.8125e-06\n"
          ],
          "name": "stdout"
        },
        {
          "output_type": "stream",
          "text": [
            "Epoch 69: 100%|██████████| 49/49 [05:51<00:00,  7.16s/it, loss=0.128]\n"
          ],
          "name": "stderr"
        },
        {
          "output_type": "stream",
          "text": [
            "tensor([200.])\n",
            "training loss is tensor([0.1326]), val loss is tensor([6.1311]), test loss is tensor([4.8794]), time : 413.6729393005371, lr:7.8125e-06\n"
          ],
          "name": "stdout"
        },
        {
          "output_type": "stream",
          "text": [
            "Epoch 70: 100%|██████████| 49/49 [05:51<00:00,  7.17s/it, loss=0.131]\n"
          ],
          "name": "stderr"
        },
        {
          "output_type": "stream",
          "text": [
            "tensor([200.])\n",
            "training loss is tensor([0.1334]), val loss is tensor([6.1256]), test loss is tensor([4.9074]), time : 412.178817987442, lr:3.90625e-06\n"
          ],
          "name": "stdout"
        },
        {
          "output_type": "stream",
          "text": [
            "Epoch 71: 100%|██████████| 49/49 [05:49<00:00,  7.14s/it, loss=0.125]\n"
          ],
          "name": "stderr"
        },
        {
          "output_type": "stream",
          "text": [
            "tensor([200.])\n",
            "training loss is tensor([0.1313]), val loss is tensor([6.1340]), test loss is tensor([4.8583]), time : 412.4348268508911, lr:3.90625e-06\n"
          ],
          "name": "stdout"
        },
        {
          "output_type": "stream",
          "text": [
            "Epoch 72: 100%|██████████| 49/49 [05:50<00:00,  7.15s/it, loss=0.121]\n"
          ],
          "name": "stderr"
        },
        {
          "output_type": "stream",
          "text": [
            "tensor([200.])\n",
            "training loss is tensor([0.1301]), val loss is tensor([6.1195]), test loss is tensor([4.8732]), time : 412.61688780784607, lr:3.90625e-06\n"
          ],
          "name": "stdout"
        },
        {
          "output_type": "stream",
          "text": [
            "Epoch 73: 100%|██████████| 49/49 [05:51<00:00,  7.18s/it, loss=0.11]\n"
          ],
          "name": "stderr"
        },
        {
          "output_type": "stream",
          "text": [
            "tensor([200.])\n",
            "training loss is tensor([0.1303]), val loss is tensor([6.1005]), test loss is tensor([4.8789]), time : 413.6741681098938, lr:3.90625e-06\n"
          ],
          "name": "stdout"
        },
        {
          "output_type": "stream",
          "text": [
            "Epoch 74: 100%|██████████| 49/49 [05:50<00:00,  7.15s/it, loss=0.135]\n"
          ],
          "name": "stderr"
        },
        {
          "output_type": "stream",
          "text": [
            "tensor([200.])\n",
            "training loss is tensor([0.1313]), val loss is tensor([6.0952]), test loss is tensor([4.8946]), time : 413.2158966064453, lr:3.90625e-06\n"
          ],
          "name": "stdout"
        },
        {
          "output_type": "stream",
          "text": [
            "Epoch 75: 100%|██████████| 49/49 [05:51<00:00,  7.18s/it, loss=0.104]\n"
          ],
          "name": "stderr"
        },
        {
          "output_type": "stream",
          "text": [
            "tensor([200.])\n",
            "training loss is tensor([0.1316]), val loss is tensor([6.0949]), test loss is tensor([4.9097]), time : 414.14880776405334, lr:3.90625e-06\n"
          ],
          "name": "stdout"
        },
        {
          "output_type": "stream",
          "text": [
            "Epoch 76: 100%|██████████| 49/49 [05:51<00:00,  7.16s/it, loss=0.123]\n"
          ],
          "name": "stderr"
        },
        {
          "output_type": "stream",
          "text": [
            "tensor([200.])\n",
            "training loss is tensor([0.1304]), val loss is tensor([6.1203]), test loss is tensor([4.8943]), time : 412.19872212409973, lr:3.90625e-06\n"
          ],
          "name": "stdout"
        },
        {
          "output_type": "stream",
          "text": [
            "Epoch 77: 100%|██████████| 49/49 [05:51<00:00,  7.18s/it, loss=0.108]\n"
          ],
          "name": "stderr"
        },
        {
          "output_type": "stream",
          "text": [
            "tensor([200.])\n",
            "training loss is tensor([0.1307]), val loss is tensor([6.1269]), test loss is tensor([4.9270]), time : 414.5564637184143, lr:3.90625e-06\n"
          ],
          "name": "stdout"
        },
        {
          "output_type": "stream",
          "text": [
            "Epoch 78: 100%|██████████| 49/49 [05:50<00:00,  7.16s/it, loss=0.127]\n"
          ],
          "name": "stderr"
        },
        {
          "output_type": "stream",
          "text": [
            "tensor([200.])\n",
            "training loss is tensor([0.1315]), val loss is tensor([6.0894]), test loss is tensor([4.9267]), time : 412.7940273284912, lr:3.90625e-06\n"
          ],
          "name": "stdout"
        },
        {
          "output_type": "stream",
          "text": [
            "Epoch 79: 100%|██████████| 49/49 [05:51<00:00,  7.18s/it, loss=0.107]\n"
          ],
          "name": "stderr"
        },
        {
          "output_type": "stream",
          "text": [
            "tensor([200.])\n",
            "training loss is tensor([0.1315]), val loss is tensor([6.0969]), test loss is tensor([4.8571]), time : 413.47597789764404, lr:3.90625e-06\n"
          ],
          "name": "stdout"
        },
        {
          "output_type": "stream",
          "text": [
            "Epoch 80: 100%|██████████| 49/49 [05:50<00:00,  7.16s/it, loss=0.125]\n"
          ],
          "name": "stderr"
        },
        {
          "output_type": "stream",
          "text": [
            "tensor([200.])\n",
            "training loss is tensor([0.1306]), val loss is tensor([6.1151]), test loss is tensor([4.9826]), time : 413.43588757514954, lr:1.953125e-06\n"
          ],
          "name": "stdout"
        },
        {
          "output_type": "stream",
          "text": [
            "Epoch 81: 100%|██████████| 49/49 [05:51<00:00,  7.18s/it, loss=0.101]\n"
          ],
          "name": "stderr"
        },
        {
          "output_type": "stream",
          "text": [
            "tensor([200.])\n",
            "training loss is tensor([0.1310]), val loss is tensor([6.1049]), test loss is tensor([4.9341]), time : 413.70817708969116, lr:1.953125e-06\n"
          ],
          "name": "stdout"
        },
        {
          "output_type": "stream",
          "text": [
            "Epoch 82: 100%|██████████| 49/49 [05:51<00:00,  7.17s/it, loss=0.112]\n"
          ],
          "name": "stderr"
        },
        {
          "output_type": "stream",
          "text": [
            "tensor([200.])\n",
            "training loss is tensor([0.1295]), val loss is tensor([6.1170]), test loss is tensor([4.9061]), time : 414.71387100219727, lr:1.953125e-06\n"
          ],
          "name": "stdout"
        },
        {
          "output_type": "stream",
          "text": [
            "Epoch 83: 100%|██████████| 49/49 [05:52<00:00,  7.18s/it, loss=0.123]\n"
          ],
          "name": "stderr"
        },
        {
          "output_type": "stream",
          "text": [
            "tensor([200.])\n",
            "training loss is tensor([0.1320]), val loss is tensor([6.1042]), test loss is tensor([4.9424]), time : 414.55130338668823, lr:1.953125e-06\n"
          ],
          "name": "stdout"
        },
        {
          "output_type": "stream",
          "text": [
            "Epoch 84: 100%|██████████| 49/49 [05:51<00:00,  7.18s/it, loss=0.117]\n"
          ],
          "name": "stderr"
        },
        {
          "output_type": "stream",
          "text": [
            "tensor([200.])\n",
            "training loss is tensor([0.1300]), val loss is tensor([6.1148]), test loss is tensor([4.8526]), time : 415.0056676864624, lr:1.953125e-06\n"
          ],
          "name": "stdout"
        },
        {
          "output_type": "stream",
          "text": [
            "Epoch 85: 100%|██████████| 49/49 [05:52<00:00,  7.19s/it, loss=0.114]\n"
          ],
          "name": "stderr"
        },
        {
          "output_type": "stream",
          "text": [
            "tensor([200.])\n",
            "training loss is tensor([0.1300]), val loss is tensor([6.1186]), test loss is tensor([4.9483]), time : 415.25995349884033, lr:1.953125e-06\n"
          ],
          "name": "stdout"
        },
        {
          "output_type": "stream",
          "text": [
            "Epoch 86: 100%|██████████| 49/49 [05:50<00:00,  7.15s/it, loss=0.102]\n"
          ],
          "name": "stderr"
        },
        {
          "output_type": "stream",
          "text": [
            "tensor([200.])\n",
            "training loss is tensor([0.1301]), val loss is tensor([6.1160]), test loss is tensor([4.7911]), time : 412.98350954055786, lr:1.953125e-06\n"
          ],
          "name": "stdout"
        },
        {
          "output_type": "stream",
          "text": [
            "Epoch 87: 100%|██████████| 49/49 [05:51<00:00,  7.18s/it, loss=0.119]\n"
          ],
          "name": "stderr"
        },
        {
          "output_type": "stream",
          "text": [
            "tensor([200.])\n",
            "training loss is tensor([0.1297]), val loss is tensor([6.1186]), test loss is tensor([4.9063]), time : 412.97945261001587, lr:1.953125e-06\n"
          ],
          "name": "stdout"
        },
        {
          "output_type": "stream",
          "text": [
            "Epoch 88: 100%|██████████| 49/49 [05:51<00:00,  7.17s/it, loss=0.123]\n"
          ],
          "name": "stderr"
        },
        {
          "output_type": "stream",
          "text": [
            "tensor([200.])\n",
            "training loss is tensor([0.1292]), val loss is tensor([6.1257]), test loss is tensor([4.8506]), time : 414.91688442230225, lr:1.953125e-06\n"
          ],
          "name": "stdout"
        },
        {
          "output_type": "stream",
          "text": [
            "Epoch 89: 100%|██████████| 49/49 [05:50<00:00,  7.15s/it, loss=0.125]\n"
          ],
          "name": "stderr"
        },
        {
          "output_type": "stream",
          "text": [
            "tensor([200.])\n",
            "training loss is tensor([0.1298]), val loss is tensor([6.1237]), test loss is tensor([4.9054]), time : 412.96271681785583, lr:1.953125e-06\n"
          ],
          "name": "stdout"
        },
        {
          "output_type": "stream",
          "text": [
            "Epoch 90: 100%|██████████| 49/49 [05:51<00:00,  7.18s/it, loss=0.119]\n"
          ],
          "name": "stderr"
        },
        {
          "output_type": "stream",
          "text": [
            "tensor([200.])\n",
            "training loss is tensor([0.1300]), val loss is tensor([6.1181]), test loss is tensor([4.8689]), time : 412.9709084033966, lr:9.765625e-07\n"
          ],
          "name": "stdout"
        },
        {
          "output_type": "stream",
          "text": [
            "Epoch 91: 100%|██████████| 49/49 [05:51<00:00,  7.18s/it, loss=0.102]\n"
          ],
          "name": "stderr"
        },
        {
          "output_type": "stream",
          "text": [
            "tensor([200.])\n",
            "training loss is tensor([0.1296]), val loss is tensor([6.1234]), test loss is tensor([4.8790]), time : 415.1155400276184, lr:9.765625e-07\n"
          ],
          "name": "stdout"
        },
        {
          "output_type": "stream",
          "text": [
            "Epoch 92: 100%|██████████| 49/49 [05:50<00:00,  7.15s/it, loss=0.114]\n"
          ],
          "name": "stderr"
        },
        {
          "output_type": "stream",
          "text": [
            "tensor([200.])\n",
            "training loss is tensor([0.1300]), val loss is tensor([6.1216]), test loss is tensor([4.8908]), time : 412.7750995159149, lr:9.765625e-07\n"
          ],
          "name": "stdout"
        },
        {
          "output_type": "stream",
          "text": [
            "Epoch 93: 100%|██████████| 49/49 [05:51<00:00,  7.18s/it, loss=0.114]\n"
          ],
          "name": "stderr"
        },
        {
          "output_type": "stream",
          "text": [
            "tensor([200.])\n",
            "training loss is tensor([0.1290]), val loss is tensor([6.1210]), test loss is tensor([4.8992]), time : 413.30265283584595, lr:9.765625e-07\n"
          ],
          "name": "stdout"
        },
        {
          "output_type": "stream",
          "text": [
            "Epoch 94: 100%|██████████| 49/49 [05:51<00:00,  7.17s/it, loss=0.114]\n"
          ],
          "name": "stderr"
        },
        {
          "output_type": "stream",
          "text": [
            "tensor([200.])\n",
            "training loss is tensor([0.1283]), val loss is tensor([6.1347]), test loss is tensor([4.9403]), time : 414.0879695415497, lr:9.765625e-07\n"
          ],
          "name": "stdout"
        },
        {
          "output_type": "stream",
          "text": [
            "Epoch 95: 100%|██████████| 49/49 [05:51<00:00,  7.18s/it, loss=0.117]\n"
          ],
          "name": "stderr"
        },
        {
          "output_type": "stream",
          "text": [
            "tensor([200.])\n",
            "training loss is tensor([0.1294]), val loss is tensor([6.1325]), test loss is tensor([4.8991]), time : 412.7443754673004, lr:9.765625e-07\n"
          ],
          "name": "stdout"
        },
        {
          "output_type": "stream",
          "text": [
            "Epoch 96: 100%|██████████| 49/49 [05:51<00:00,  7.18s/it, loss=0.119]\n"
          ],
          "name": "stderr"
        },
        {
          "output_type": "stream",
          "text": [
            "tensor([200.])\n",
            "training loss is tensor([0.1293]), val loss is tensor([6.1173]), test loss is tensor([4.9208]), time : 415.10628485679626, lr:9.765625e-07\n"
          ],
          "name": "stdout"
        },
        {
          "output_type": "stream",
          "text": [
            "Epoch 97: 100%|██████████| 49/49 [05:50<00:00,  7.15s/it, loss=0.116]\n"
          ],
          "name": "stderr"
        },
        {
          "output_type": "stream",
          "text": [
            "tensor([200.])\n",
            "training loss is tensor([0.1306]), val loss is tensor([6.1214]), test loss is tensor([4.9037]), time : 413.4284739494324, lr:9.765625e-07\n"
          ],
          "name": "stdout"
        },
        {
          "output_type": "stream",
          "text": [
            "Epoch 98: 100%|██████████| 49/49 [05:51<00:00,  7.16s/it, loss=0.112]\n"
          ],
          "name": "stderr"
        },
        {
          "output_type": "stream",
          "text": [
            "tensor([200.])\n",
            "training loss is tensor([0.1299]), val loss is tensor([6.1243]), test loss is tensor([4.8813]), time : 413.2297465801239, lr:9.765625e-07\n"
          ],
          "name": "stdout"
        },
        {
          "output_type": "stream",
          "text": [
            "Epoch 99: 100%|██████████| 49/49 [05:50<00:00,  7.16s/it, loss=0.116]\n"
          ],
          "name": "stderr"
        },
        {
          "output_type": "stream",
          "text": [
            "tensor([200.])\n",
            "training loss is tensor([0.1292]), val loss is tensor([6.1184]), test loss is tensor([4.9070]), time : 411.4685935974121, lr:9.765625e-07\n"
          ],
          "name": "stdout"
        },
        {
          "output_type": "stream",
          "text": [
            "Epoch 100: 100%|██████████| 49/49 [05:51<00:00,  7.18s/it, loss=0.124]\n"
          ],
          "name": "stderr"
        },
        {
          "output_type": "stream",
          "text": [
            "tensor([200.])\n",
            "training loss is tensor([0.1283]), val loss is tensor([6.1160]), test loss is tensor([4.9668]), time : 414.658016204834, lr:4.8828125e-07\n"
          ],
          "name": "stdout"
        }
      ]
    },
    {
      "cell_type": "code",
      "metadata": {
        "id": "JiC364ummwTk",
        "outputId": "f8a1d006-4a1c-47b0-a43d-b09048f8381d",
        "colab": {
          "base_uri": "https://localhost:8080/"
        }
      },
      "source": [
        "%tb"
      ],
      "execution_count": 46,
      "outputs": [
        {
          "output_type": "stream",
          "text": [
            "No traceback available to show.\n"
          ],
          "name": "stderr"
        }
      ]
    },
    {
      "cell_type": "code",
      "metadata": {
        "id": "jWpoaeu5o_S3"
      },
      "source": [
        "#baseline 5.40 -> 4.42, resnet 50, 16, 3.82, resnet 50, 32, 4.22, se-resnet 4.51"
      ],
      "execution_count": 47,
      "outputs": []
    }
  ]
}